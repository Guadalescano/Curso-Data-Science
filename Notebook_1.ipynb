{
  "cells": [
    {
      "cell_type": "markdown",
      "metadata": {
        "id": "view-in-github",
        "colab_type": "text"
      },
      "source": [
        "<a href=\"https://colab.research.google.com/github/Guadalescano/Curso-Data-Science/blob/main/Notebook_1.ipynb\" target=\"_parent\"><img src=\"https://colab.research.google.com/assets/colab-badge.svg\" alt=\"Open In Colab\"/></a>"
      ]
    },
    {
      "cell_type": "markdown",
      "metadata": {
        "id": "p3qOd2lCIBTD"
      },
      "source": [
        "Uno de los motivos por el cual Python ha crecido en los ultimos años es su gran comunidad de código abierto. Existen muchos eventos a los que se puede asistir para aprender más acerca de lo que se trabaja en Python. Todos ellos son inclusivos y abiertos al público."
      ]
    },
    {
      "cell_type": "markdown",
      "metadata": {
        "id": "HUYjQZ-hIBS_"
      },
      "source": [
        "# Programa Ingenias+ Data Science"
      ]
    },
    {
      "cell_type": "markdown",
      "metadata": {
        "id": "qx96wLzTjCwq"
      },
      "source": [
        "[link text](https:// [link text](https://))"
      ]
    },
    {
      "cell_type": "markdown",
      "metadata": {
        "id": "Zv_cCGTKIBTE"
      },
      "source": [
        "# Clase 1: Introducción a Python"
      ]
    },
    {
      "cell_type": "markdown",
      "metadata": {
        "id": "o7ZVxqDnzrPi"
      },
      "source": []
    },
    {
      "cell_type": "markdown",
      "metadata": {
        "id": "FfQFHyRfIBTC"
      },
      "source": [
        "Antes de poder sumergirnos de lleno en aprender conceptos especificos del mundo de Data Science, hay una habilidad que debemos adquirir o mejorar: **Programación**. De todos los lenguajes de programación existentes, hay dos que dominan el mundo de Data Science.  \n",
        "El primero de ellos es **R</t>**, un lenguaje que se utiliza mucho en investigación y estadistica. El otro es **Python**.\n",
        "Si bien ambos son muy utiles, **Python** es el más utilizado hoy en día, y debido a esto más módulos han sido desarrollados."
      ]
    },
    {
      "cell_type": "markdown",
      "source": [],
      "metadata": {
        "id": "hgrk6liXB5gG"
      }
    },
    {
      "cell_type": "markdown",
      "metadata": {
        "id": "EQtl33aqIBTE"
      },
      "source": [
        "Python es un lenguaje de programación de propósito general muy poderoso y\n",
        "\n",
        "*   Elemento de lista\n",
        "*   Elemento de lista\n",
        "\n",
        "flexible, a la vez que sencillo y fácil de aprender."
      ]
    },
    {
      "cell_type": "markdown",
      "metadata": {
        "id": "KDwws6ELIBTE"
      },
      "source": [
        "\n",
        "\n",
        "```\n",
        "# Tiene formato de código\n",
        "```\n",
        "\n",
        "**¿Donde recurro cuando estoy trabada o no se qué hacer?**"
      ]
    },
    {
      "cell_type": "markdown",
      "metadata": {
        "id": "uzxslsUVIBTF"
      },
      "source": [
        "Python posee una amplia documentación que nos permite investigar cada función que contiene el lenguaje. Podes chequearla [acá](https://docs.python.org/3/)\n",
        "\n",
        "Otra fuente para obtener respuestas es [Stackoverflow](https://es.stackoverflow.com/) o por supuesto, Google."
      ]
    },
    {
      "cell_type": "markdown",
      "metadata": {
        "id": "tao9huSrIBTF"
      },
      "source": [
        "## Conceptos básicos de Python"
      ]
    },
    {
      "cell_type": "markdown",
      "metadata": {
        "id": "E-Ws_92DIBTG"
      },
      "source": [
        "En estas clases utilizaremos **Jupyter Notebook**. La ventaja de jupyter notebook es que permite mezclar celdas `Markdown` con celdas de código."
      ]
    },
    {
      "cell_type": "markdown",
      "metadata": {
        "id": "DNWhdMWZIBTG"
      },
      "source": [
        "1) **Markdown** es un lenguaje de marcado que permite dar formato a un texto de manera rápida y fácil.\n",
        "\n",
        "Para utilizarlo debes seguir ciertas convenciones que puedas consultar en la siguiente página web: [Guía Markdown](https://joedicastro.com/pages/markdown.html)"
      ]
    },
    {
      "cell_type": "markdown",
      "metadata": {
        "id": "2q5qlavbIBTH"
      },
      "source": [
        "2) Por otro lado, en las celdas de código es donde vamos a escribir el código **Python**.  \n",
        "\n",
        "Prestale atención a los corchetes que se encuentran al lado de cada celda de Python. Cuando tienen un número significa que esa celda ha sido corrida. Cuando tienen `*` implica que la celda esta corriendo."
      ]
    },
    {
      "cell_type": "markdown",
      "metadata": {
        "id": "CrCkrNfwIBTH"
      },
      "source": [
        "Python posee una guía de estilo, que si bien no es obligatoria, se **RECOMIENDA** seguir. Podes leer acerca de las convenciones establecidas en el [PEP8](https://www.python.org/dev/peps/pep-0008/)."
      ]
    },
    {
      "cell_type": "markdown",
      "metadata": {
        "id": "UfGOTT9TIBTI"
      },
      "source": [
        "La filosofía de Python hace hincapié en una sintaxis que favorezca un código legible. Esta filosofía se resumen en lo que se conoce como el **ZEN de Python**."
      ]
    },
    {
      "cell_type": "code",
      "execution_count": null,
      "metadata": {
        "id": "NPu8DjQOIBTI",
        "colab": {
          "base_uri": "https://localhost:8080/"
        },
        "outputId": "952ca12a-141e-4544-dfbb-2118b0fe59dc"
      },
      "outputs": [
        {
          "output_type": "stream",
          "name": "stdout",
          "text": [
            "The Zen of Python, by Tim Peters\n",
            "\n",
            "Beautiful is better than ugly.\n",
            "Explicit is better than implicit.\n",
            "Simple is better than complex.\n",
            "Complex is better than complicated.\n",
            "Flat is better than nested.\n",
            "Sparse is better than dense.\n",
            "Readability counts.\n",
            "Special cases aren't special enough to break the rules.\n",
            "Although practicality beats purity.\n",
            "Errors should never pass silently.\n",
            "Unless explicitly silenced.\n",
            "In the face of ambiguity, refuse the temptation to guess.\n",
            "There should be one-- and preferably only one --obvious way to do it.\n",
            "Although that way may not be obvious at first unless you're Dutch.\n",
            "Now is better than never.\n",
            "Although never is often better than *right* now.\n",
            "If the implementation is hard to explain, it's a bad idea.\n",
            "If the implementation is easy to explain, it may be a good idea.\n",
            "Namespaces are one honking great idea -- let's do more of those!\n"
          ]
        }
      ],
      "source": [
        "#Corre esta linea para descubrir el zen de Python\n",
        "import this"
      ]
    },
    {
      "cell_type": "markdown",
      "metadata": {
        "id": "x-U2ymfsIBTJ"
      },
      "source": [
        "Empecemos con una función muy simple de Python: `print()`. Esta función imprime la variable que se le pase."
      ]
    },
    {
      "cell_type": "code",
      "execution_count": null,
      "metadata": {
        "colab": {
          "base_uri": "https://localhost:8080/"
        },
        "id": "C6BFwKs-IBTJ",
        "outputId": "13f27a4f-80e0-477f-e929-f39fe51773d3"
      },
      "outputs": [
        {
          "output_type": "stream",
          "name": "stdout",
          "text": [
            "Python es muy fácil de aprender\n"
          ]
        }
      ],
      "source": [
        "#Corre esta celda para descrubir el output\n",
        "print(\"Python es muy fácil de aprender\")"
      ]
    },
    {
      "cell_type": "code",
      "execution_count": null,
      "metadata": {
        "colab": {
          "base_uri": "https://localhost:8080/"
        },
        "id": "Qtm2wvaMIBTK",
        "outputId": "ec9ac003-2255-4e4e-d72d-58fc75860cd8"
      },
      "outputs": [
        {
          "output_type": "stream",
          "name": "stdout",
          "text": [
            "Python es muy fácil de aprender\n"
          ]
        }
      ],
      "source": [
        "print (\"Python es muy fácil de aprender\")"
      ]
    },
    {
      "cell_type": "markdown",
      "metadata": {
        "id": "Dql9P9cTIBTK"
      },
      "source": [
        "### Sintaxis: Indentación y Comentarios"
      ]
    },
    {
      "cell_type": "markdown",
      "metadata": {
        "id": "r-ATaA8sIBTK"
      },
      "source": [
        "La clave de la sintaxis de Python es la INDENTACIÓN. La indentación es la sangría inicial de un bloque de código, compuesta por 4 espacios o un tab"
      ]
    },
    {
      "cell_type": "code",
      "execution_count": null,
      "metadata": {
        "id": "93by5ynyIBTK"
      },
      "outputs": [],
      "source": [
        "def suma(a, b):\n",
        "    # esta linea suma a y b\n",
        "    c = a + b\n",
        "    # esta linea suma a y c\n",
        "    d = a + c\n",
        "    return c\n",
        "\n",
        "def resta(a, b):\n",
        "    return a - b"
      ]
    },
    {
      "cell_type": "code",
      "execution_count": null,
      "metadata": {
        "colab": {
          "base_uri": "https://localhost:8080/"
        },
        "id": "ToIi6d2QIBTL",
        "outputId": "1b669842-35e9-4a84-9536-d51772b57507"
      },
      "outputs": [
        {
          "output_type": "execute_result",
          "data": {
            "text/plain": [
              "2"
            ]
          },
          "metadata": {},
          "execution_count": 4
        }
      ],
      "source": [
        "resta(5, 3)"
      ]
    },
    {
      "cell_type": "code",
      "source": [
        " resta(43,10)\n",
        "\n",
        "\n",
        "\n"
      ],
      "metadata": {
        "colab": {
          "base_uri": "https://localhost:8080/"
        },
        "id": "GHkpK44X4X01",
        "outputId": "59b88e4b-5acc-422e-cbd5-95611376bf6f"
      },
      "execution_count": null,
      "outputs": [
        {
          "output_type": "execute_result",
          "data": {
            "text/plain": [
              "33"
            ]
          },
          "metadata": {},
          "execution_count": 5
        }
      ]
    },
    {
      "cell_type": "code",
      "execution_count": null,
      "metadata": {
        "id": "VJJPE1ARrdtR",
        "colab": {
          "base_uri": "https://localhost:8080/"
        },
        "outputId": "7c5d9526-1bbe-4744-c328-2d985591648c"
      },
      "outputs": [
        {
          "output_type": "execute_result",
          "data": {
            "text/plain": [
              "33"
            ]
          },
          "metadata": {},
          "execution_count": 6
        }
      ],
      "source": [
        "resta(43,10)"
      ]
    },
    {
      "cell_type": "code",
      "source": [
        "# esto es un comentario\n",
        "print(5)"
      ],
      "metadata": {
        "colab": {
          "base_uri": "https://localhost:8080/"
        },
        "id": "HvduLYdv48Al",
        "outputId": "bccd2d8d-116a-426a-e676-648b2dc7111d"
      },
      "execution_count": null,
      "outputs": [
        {
          "output_type": "stream",
          "name": "stdout",
          "text": [
            "5\n"
          ]
        }
      ]
    },
    {
      "cell_type": "code",
      "execution_count": null,
      "metadata": {
        "colab": {
          "base_uri": "https://localhost:8080/"
        },
        "id": "cs6Q2r3sIBTL",
        "outputId": "873c7f51-2de6-4631-fff7-f16f2e376c22"
      },
      "outputs": [
        {
          "output_type": "stream",
          "name": "stdout",
          "text": [
            "1\n"
          ]
        }
      ],
      "source": [
        "# esto es un comentario\n",
        "print(1)"
      ]
    },
    {
      "cell_type": "code",
      "execution_count": null,
      "metadata": {
        "colab": {
          "base_uri": "https://localhost:8080/"
        },
        "id": "_ogl3mo50rKq",
        "outputId": "579066e5-e35e-47f9-d3a7-9672c91858f1"
      },
      "outputs": [
        {
          "output_type": "stream",
          "name": "stdout",
          "text": [
            "38\n"
          ]
        }
      ],
      "source": [
        "#comentario\n",
        "print(38)"
      ]
    },
    {
      "cell_type": "markdown",
      "metadata": {
        "id": "CeJ3kCI9IBTL"
      },
      "source": [
        "El simbolo `#` se utiliza para determinar un comentario. Esto significa que al verlo, Python entendera que esa línea no corresponde a código que debe correrse."
      ]
    },
    {
      "cell_type": "markdown",
      "metadata": {
        "id": "-s0U6l_YIBTL"
      },
      "source": [
        "Comentar el código es una practica muy útil para explicar que hace una linea de código. La convención es que el comentario se haga en la línea anterior a la linea de código correspondiente."
      ]
    },
    {
      "cell_type": "code",
      "execution_count": null,
      "metadata": {
        "id": "93Vf8OTRIBTM"
      },
      "outputs": [],
      "source": []
    },
    {
      "cell_type": "code",
      "execution_count": null,
      "metadata": {
        "id": "hOxalfP3IBTM"
      },
      "outputs": [],
      "source": []
    },
    {
      "cell_type": "code",
      "execution_count": null,
      "metadata": {
        "colab": {
          "base_uri": "https://localhost:8080/"
        },
        "id": "bbdcpBvUIBTM",
        "outputId": "a8053ea3-1b4c-4fe0-b772-65b954641a01"
      },
      "outputs": [
        {
          "output_type": "stream",
          "name": "stdout",
          "text": [
            "194.87171000000012\n"
          ]
        }
      ],
      "source": [
        "#Reemplaza las lineas de puntos con la función correspondiente.\n",
        "print(100*(1.1**7))"
      ]
    },
    {
      "cell_type": "code",
      "execution_count": null,
      "metadata": {
        "colab": {
          "base_uri": "https://localhost:8080/"
        },
        "id": "k_mRurYlMJr9",
        "outputId": "8c8ec42e-91a5-45df-a465-0305eee3e123"
      },
      "outputs": [
        {
          "output_type": "stream",
          "name": "stdout",
          "text": [
            "172.79999999999998\n"
          ]
        }
      ],
      "source": [
        "print(100*(1.2**3))\n"
      ]
    },
    {
      "cell_type": "markdown",
      "metadata": {
        "id": "mKF0Tbn5IBTM"
      },
      "source": [
        "## Variables y Estructura de datos"
      ]
    },
    {
      "cell_type": "markdown",
      "metadata": {
        "id": "ofppWLIbIBTM"
      },
      "source": [
        "### Asignación de variables:"
      ]
    },
    {
      "cell_type": "markdown",
      "metadata": {
        "id": "0AmUV30GIBTN"
      },
      "source": [
        "En Python, una variable permite referir a un valor utilizando un nombre en especifico. Para crear una variable, se debe usar `=` como en el siguiente ejemplo:"
      ]
    },
    {
      "cell_type": "code",
      "execution_count": null,
      "metadata": {
        "id": "PePgG7rjIBTN"
      },
      "outputs": [],
      "source": [
        "mi_numero = 10"
      ]
    },
    {
      "cell_type": "code",
      "execution_count": null,
      "metadata": {
        "colab": {
          "base_uri": "https://localhost:8080/"
        },
        "id": "w4KelmHKIBTN",
        "outputId": "23cd6681-1df8-4c54-8ce4-af9aed56739b"
      },
      "outputs": [
        {
          "output_type": "stream",
          "name": "stdout",
          "text": [
            "10\n"
          ]
        }
      ],
      "source": [
        "print(mi_numero)"
      ]
    },
    {
      "cell_type": "code",
      "execution_count": null,
      "metadata": {
        "colab": {
          "base_uri": "https://localhost:8080/"
        },
        "id": "VnEfwXHfMcvl",
        "outputId": "c5f55b7d-3932-4912-ff0e-5b5c74ebb94e"
      },
      "outputs": [
        {
          "output_type": "stream",
          "name": "stdout",
          "text": [
            "40\n"
          ]
        }
      ],
      "source": [
        "mi_numero = 40\n",
        "print(mi_numero)"
      ]
    },
    {
      "cell_type": "markdown",
      "metadata": {
        "id": "M0o3mdGCIBTN"
      },
      "source": [
        "Ahora, sigue las instrucciones de los comentarios."
      ]
    },
    {
      "cell_type": "code",
      "execution_count": null,
      "metadata": {
        "id": "1Eg2R-wmIBTN"
      },
      "outputs": [],
      "source": [
        "#Asigna 100 a la variable mi_variable\n",
        "mi_variable = 250"
      ]
    },
    {
      "cell_type": "code",
      "execution_count": null,
      "metadata": {
        "colab": {
          "base_uri": "https://localhost:8080/"
        },
        "id": "0zS96SokMr17",
        "outputId": "1e46639d-63ff-47a1-84a6-ef83daf60919"
      },
      "outputs": [
        {
          "output_type": "stream",
          "name": "stdout",
          "text": [
            "100\n"
          ]
        }
      ],
      "source": [
        "mi_variable=100\n",
        "print(mi_variable)"
      ]
    },
    {
      "cell_type": "code",
      "execution_count": null,
      "metadata": {
        "colab": {
          "base_uri": "https://localhost:8080/"
        },
        "id": "4gWvtyQMIBTN",
        "outputId": "a2f36f30-35de-46c6-b06d-f5b7707b22f8"
      },
      "outputs": [
        {
          "output_type": "stream",
          "name": "stdout",
          "text": [
            "100\n"
          ]
        }
      ],
      "source": [
        "#Muestra el contenido de la variable\n",
        "print(mi_variable)"
      ]
    },
    {
      "cell_type": "code",
      "execution_count": null,
      "metadata": {
        "id": "sA82GbY_IBTN"
      },
      "outputs": [],
      "source": [
        "mi_numero = 35"
      ]
    },
    {
      "cell_type": "code",
      "execution_count": null,
      "metadata": {
        "colab": {
          "base_uri": "https://localhost:8080/"
        },
        "id": "4GtcWRirIBTO",
        "outputId": "b0e923bc-b586-4c48-986f-917e46ab4d50"
      },
      "outputs": [
        {
          "output_type": "stream",
          "name": "stdout",
          "text": [
            "35\n"
          ]
        }
      ],
      "source": [
        "print(mi_numero)"
      ]
    },
    {
      "cell_type": "markdown",
      "metadata": {
        "id": "61Gq151VIBTO"
      },
      "source": [
        "Las variables pueden ser llamadas posteriormente. Además podemos realizar calculos y operaciones con ellas."
      ]
    },
    {
      "cell_type": "code",
      "execution_count": null,
      "metadata": {
        "colab": {
          "base_uri": "https://localhost:8080/"
        },
        "id": "T54_s_40IBTO",
        "outputId": "c9aa1ead-4525-4db7-df8e-2bfcc80b9dad"
      },
      "outputs": [
        {
          "output_type": "stream",
          "name": "stdout",
          "text": [
            "1708.59375\n"
          ]
        }
      ],
      "source": [
        "#Crea una variable llamada factor que contenga el numero 1.1\n",
        "factor = 1.5\n",
        "\n",
        "#Calcula el resultado de elevar a la 7 la varible factor multiplicarla\n",
        "#por el numero contenido en mi_varible y asignala a una nueva variable\n",
        "#llamada resultado\n",
        "resultado = factor**7*mi_variable\n",
        "#Imprime el resultado\n",
        "print(resultado)"
      ]
    },
    {
      "cell_type": "code",
      "execution_count": null,
      "metadata": {
        "colab": {
          "base_uri": "https://localhost:8080/"
        },
        "id": "hi-bw7RabFPr",
        "outputId": "59d4a10b-4704-4321-a67c-59b7918cbbfc"
      },
      "outputs": [
        {
          "output_type": "stream",
          "name": "stdout",
          "text": [
            "116.92302600000008\n"
          ]
        }
      ],
      "source": [
        "mi_variable = 60\n",
        "factor = 1.1\n",
        "resultado=((factor**7)*mi_variable)\n",
        "print(resultado)\n"
      ]
    },
    {
      "cell_type": "markdown",
      "metadata": {
        "id": "uHpC-ctrIBTO"
      },
      "source": [
        "Hay ciertas reglas que se deben cumplir a la hora de declarar una variable:  \n",
        "\n",
        "- Los nombres de las variables siempre aparecen a la izquierda de `=`.\n",
        "- Python diferencia mayusculas de minusculas en el nombre de las variables.\n",
        "- Los nombres de las variables DEBEN comenzar con una letra. Luego pueden contener nombres y guiones bajos `_`. Pero no pueden contener caracteres especiales (como por ejemplo, `&`, `*`, `#`, etc).\n",
        "- Si bien Python no le importa como llames a tus variables, los nombres de las variables deben ser descriptivos de los valores o datos que contienen para que otras personas puedan interpretarlo.\n",
        "- Lee más acerca de estas convenciones en el **PEP8**."
      ]
    },
    {
      "cell_type": "markdown",
      "metadata": {
        "id": "2BZD4eKxIBTO"
      },
      "source": [
        "**PALABRAS RESERVADAS**: Hay 33 palabras que no podes utilizar como nombres de variables, debido a que estan reservadas para el lenguaje ya que cumplen una función particular en Python."
      ]
    },
    {
      "cell_type": "markdown",
      "metadata": {
        "id": "MMEiFu8PIBTO"
      },
      "source": [
        "_Ellas son_: False, None, True, and, as, assert, break, class, continue, def, del, elif, else, except, finally, for, from, global, if, import, in, is, lambda, nonlocal, not, or, pass, raise, return, try, while, with, yield\n",
        "\n"
      ]
    },
    {
      "cell_type": "code",
      "execution_count": null,
      "metadata": {
        "colab": {
          "base_uri": "https://localhost:8080/"
        },
        "id": "T92qMKQ-eOOP",
        "outputId": "d0c447fc-fe9e-4821-d4ca-90fa99321d21"
      },
      "outputs": [
        {
          "output_type": "stream",
          "name": "stdout",
          "text": [
            "8\n"
          ]
        }
      ],
      "source": [
        "#codigo incorrecto no se puede utilizar try es una palabra con excepción\n",
        "valor = 8\n",
        "print(valor)\n"
      ]
    },
    {
      "cell_type": "code",
      "execution_count": null,
      "metadata": {
        "id": "3WN5NjwPIBTP"
      },
      "outputs": [],
      "source": []
    },
    {
      "cell_type": "markdown",
      "metadata": {
        "id": "Oj0_9qPQIBTP"
      },
      "source": [
        "### Tipo de Variables:"
      ]
    },
    {
      "cell_type": "markdown",
      "metadata": {
        "id": "laFZopm5IBTP"
      },
      "source": [
        "Python nos provee una función útil para chequear que tipo de variable contiene cada variable definida: `type()` [Chequea la documentación](https://docs.python.org/3/library/functions.html?highlight=type#type)."
      ]
    },
    {
      "cell_type": "markdown",
      "metadata": {
        "id": "efGMi76yIBTP"
      },
      "source": [
        "### ENTEROS"
      ]
    },
    {
      "cell_type": "markdown",
      "metadata": {
        "id": "6SZULLwxIBTP"
      },
      "source": [
        "El primer tipo de datos que podemos tener son enteros, que corresponde al tipo `int` en Python."
      ]
    },
    {
      "cell_type": "code",
      "execution_count": null,
      "metadata": {
        "colab": {
          "base_uri": "https://localhost:8080/"
        },
        "id": "zB7X_gXiIBTP",
        "outputId": "987a4737-3940-4792-d75e-c12e25b00a69"
      },
      "outputs": [
        {
          "output_type": "stream",
          "name": "stdout",
          "text": [
            "<class 'float'>\n",
            "<class 'int'>\n"
          ]
        }
      ],
      "source": [
        "#Declara la variable mi_numero y asignale el numero 4\n",
        "mi_numero = 2.1\n",
        "\n",
        "#Declara la variable otro_numero y asignale el numero -1\n",
        "otro_numero = 2\n",
        "\n",
        "#Chequea que tipo de variables son mi_numero y otro_numero\n",
        "print(type(mi_numero))\n",
        "print(type(otro_numero))"
      ]
    },
    {
      "cell_type": "code",
      "execution_count": null,
      "metadata": {
        "colab": {
          "base_uri": "https://localhost:8080/"
        },
        "id": "TnyhNVzyIBTP",
        "outputId": "df34a5e2-d546-48fd-f648-5fe2c693a714"
      },
      "outputs": [
        {
          "output_type": "stream",
          "name": "stdout",
          "text": [
            "4.2\n"
          ]
        }
      ],
      "source": [
        "#Imprime el resultado de multiplicar mi_numero y otro_numero\n",
        "print(mi_numero*otro_numero)"
      ]
    },
    {
      "cell_type": "code",
      "execution_count": null,
      "metadata": {
        "colab": {
          "base_uri": "https://localhost:8080/"
        },
        "id": "f-W5sz73dMtS",
        "outputId": "85a1988a-a85f-45da-9111-ff4444ca23e5"
      },
      "outputs": [
        {
          "output_type": "stream",
          "name": "stdout",
          "text": [
            "<class 'int'>\n",
            "<class 'int'>\n"
          ]
        }
      ],
      "source": [
        "mi_numero =4\n",
        "otro_numero =-1\n",
        "print (type(mi_numero))\n",
        "print (type(otro_numero))\n"
      ]
    },
    {
      "cell_type": "code",
      "execution_count": null,
      "metadata": {
        "colab": {
          "base_uri": "https://localhost:8080/"
        },
        "id": "guj72n_Idpde",
        "outputId": "4fb5abbf-c119-40f1-aacc-06a59e4b1bee"
      },
      "outputs": [
        {
          "output_type": "stream",
          "name": "stdout",
          "text": [
            "-4\n"
          ]
        }
      ],
      "source": [
        "#Imprimir resultado de multiplicar mi_numero y otro_numero\n",
        "print (mi_numero*otro_numero)"
      ]
    },
    {
      "cell_type": "markdown",
      "metadata": {
        "id": "-R-BiIoDIBTQ"
      },
      "source": [
        "### FLOTANTES"
      ]
    },
    {
      "cell_type": "markdown",
      "metadata": {
        "id": "OoQWsze4IBTQ"
      },
      "source": [
        "Además de enteros, los datos también pueden ser de tipo flotantes. Esto es pueden contener numeros como `5.5`, `7.7`, `9014019401.43`. Este tipo de variable corresponde a `float` en Python."
      ]
    },
    {
      "cell_type": "code",
      "execution_count": null,
      "metadata": {
        "colab": {
          "base_uri": "https://localhost:8080/"
        },
        "id": "-tEcqcTpIBTQ",
        "outputId": "79ba23ba-e660-4086-c337-3d5e472c0f91"
      },
      "outputs": [
        {
          "output_type": "stream",
          "name": "stdout",
          "text": [
            "<class 'float'>\n"
          ]
        }
      ],
      "source": [
        "#Declara la variable float_numero y asignale el numero 4.9\n",
        "float_numero = 9.2\n",
        "\n",
        "#Chequea que tipo de variable es float_numero\n",
        "print(type(float_numero))"
      ]
    },
    {
      "cell_type": "code",
      "execution_count": null,
      "metadata": {
        "colab": {
          "base_uri": "https://localhost:8080/"
        },
        "id": "RCOTIpolIBTQ",
        "outputId": "3ebe8edc-c942-4244-ccbf-b667faad6643"
      },
      "outputs": [
        {
          "output_type": "stream",
          "name": "stdout",
          "text": [
            "105.67066425031734\n"
          ]
        }
      ],
      "source": [
        "#Imprime el resultado de elevar float_numero a mi_numero, declarado anteriormente\n",
        "print(float_numero**mi_numero)"
      ]
    },
    {
      "cell_type": "code",
      "execution_count": null,
      "metadata": {
        "colab": {
          "base_uri": "https://localhost:8080/"
        },
        "id": "wljjd9qtf0eZ",
        "outputId": "8a734002-100e-475d-8510-cbaf6701996d"
      },
      "outputs": [
        {
          "output_type": "stream",
          "name": "stdout",
          "text": [
            "<class 'float'>\n"
          ]
        }
      ],
      "source": [
        "float_numero =4.9\n",
        "print (type(float_numero))"
      ]
    },
    {
      "cell_type": "code",
      "execution_count": null,
      "metadata": {
        "colab": {
          "base_uri": "https://localhost:8080/"
        },
        "id": "gNIRNuA3gEoy",
        "outputId": "135fe989-2154-46f4-fc0e-951055ba4ec0"
      },
      "outputs": [
        {
          "output_type": "stream",
          "name": "stdout",
          "text": [
            "10.290000000000001\n"
          ]
        }
      ],
      "source": [
        "print (float_numero*mi_numero)"
      ]
    },
    {
      "cell_type": "markdown",
      "metadata": {
        "id": "5UVoSCi0IBTQ"
      },
      "source": [
        "### BOOLEANAS"
      ]
    },
    {
      "cell_type": "markdown",
      "metadata": {
        "id": "uWrj3-K5IBTQ"
      },
      "source": [
        "Una variable booleana es una variable lógica que admite solo dos valores `True` y `False`."
      ]
    },
    {
      "cell_type": "code",
      "execution_count": null,
      "metadata": {
        "id": "n--DS2YPIBTQ"
      },
      "outputs": [],
      "source": [
        "#Corre la siguiente linea\n",
        "mi_bool = True"
      ]
    },
    {
      "cell_type": "code",
      "execution_count": null,
      "metadata": {
        "id": "UMc-hN6fIBTR"
      },
      "outputs": [],
      "source": [
        "#Ahora asigna a la variable otra_bool el valor False\n",
        "otra_bool = False"
      ]
    },
    {
      "cell_type": "code",
      "execution_count": null,
      "metadata": {
        "colab": {
          "base_uri": "https://localhost:8080/"
        },
        "id": "Jm084U2AIBTR",
        "outputId": "5d449415-2fbe-4dc8-83da-f97807e8cb46"
      },
      "outputs": [
        {
          "output_type": "stream",
          "name": "stdout",
          "text": [
            "<class 'bool'>\n",
            "<class 'bool'>\n"
          ]
        }
      ],
      "source": [
        "#Chequea que tipo de variables son mi_bool y otra_bool\n",
        "print(type(mi_bool))\n",
        "print(type(otra_bool))"
      ]
    },
    {
      "cell_type": "code",
      "execution_count": null,
      "metadata": {
        "id": "TKV3djR1iIra"
      },
      "outputs": [],
      "source": []
    },
    {
      "cell_type": "markdown",
      "metadata": {
        "id": "hf2nka7BIBTR"
      },
      "source": [
        "Pese a que las variables booleanas son definidas con los valores `True` y `False`, Python las trata como numeros."
      ]
    },
    {
      "cell_type": "code",
      "execution_count": null,
      "metadata": {
        "colab": {
          "base_uri": "https://localhost:8080/"
        },
        "id": "dqzecrXfIBTR",
        "outputId": "0a899153-3cd4-4b71-a07b-011529a69d76"
      },
      "outputs": [
        {
          "output_type": "execute_result",
          "data": {
            "text/plain": [
              "1"
            ]
          },
          "metadata": {},
          "execution_count": 29
        }
      ],
      "source": [
        "#Prueba que ocurre si sumamos mi_bool y otra_bool\n",
        "mi_bool + otra_bool"
      ]
    },
    {
      "cell_type": "markdown",
      "metadata": {
        "id": "WERJJ8p3IBTR"
      },
      "source": [
        "Así es Python devolvera un numero. En lugar de utilizar el operador suma, podemos utilizar los operadores lógicos: `&` o `and`, `|` o `or`, y `not`."
      ]
    },
    {
      "cell_type": "code",
      "execution_count": null,
      "metadata": {
        "colab": {
          "base_uri": "https://localhost:8080/"
        },
        "id": "cGeuzW3kIBTR",
        "outputId": "05bb0dc6-b355-439f-b104-7d8dd1ad7d7c"
      },
      "outputs": [
        {
          "output_type": "execute_result",
          "data": {
            "text/plain": [
              "False"
            ]
          },
          "metadata": {},
          "execution_count": 37
        }
      ],
      "source": [
        "#Aplica el operador and o & entre las variables mi_bool y otra_bool\n",
        "mi_bool and otra_bool"
      ]
    },
    {
      "cell_type": "code",
      "execution_count": null,
      "metadata": {
        "colab": {
          "base_uri": "https://localhost:8080/"
        },
        "id": "kIwSzQrKIBTS",
        "outputId": "9c856152-6689-4b27-aff5-f273889cace2"
      },
      "outputs": [
        {
          "output_type": "execute_result",
          "data": {
            "text/plain": [
              "True"
            ]
          },
          "metadata": {},
          "execution_count": 38
        }
      ],
      "source": [
        "#Aplica el operador or o | entre las variables mi_bool y otra_bool\n",
        "mi_bool or otra_bool"
      ]
    },
    {
      "cell_type": "code",
      "execution_count": null,
      "metadata": {
        "colab": {
          "base_uri": "https://localhost:8080/"
        },
        "id": "mXYaCZMOIBTS",
        "outputId": "83654e02-9a8e-44a2-8ce8-a01000dc6e8c"
      },
      "outputs": [
        {
          "output_type": "execute_result",
          "data": {
            "text/plain": [
              "False"
            ]
          },
          "metadata": {},
          "execution_count": 39
        }
      ],
      "source": [
        "#Aplica el operador not a la variable mi_bool\n",
        "not mi_bool"
      ]
    },
    {
      "cell_type": "markdown",
      "metadata": {
        "id": "7HQJdTJsIBTS"
      },
      "source": [
        "### SECUENCIA DE CARACTERES O STRINGS"
      ]
    },
    {
      "cell_type": "markdown",
      "metadata": {
        "id": "yd-UPj3HIBTS"
      },
      "source": [
        "La secuencia de caracteres o `string` es otro tipo de datos que podemos encontrar en Python. Estas variables poseen de particular que se definen utilizando comillas, como en el ejemplo siguiente:"
      ]
    },
    {
      "cell_type": "code",
      "execution_count": null,
      "metadata": {
        "colab": {
          "base_uri": "https://localhost:8080/"
        },
        "id": "NF1n-Qe1IBTS",
        "outputId": "55cbadf6-ee3d-4456-cfca-c2c6a91f435c"
      },
      "outputs": [
        {
          "output_type": "stream",
          "name": "stdout",
          "text": [
            "Aprender Python es muy sencillo\n",
            "Solo hay que practicar\n"
          ]
        }
      ],
      "source": [
        "#Corre las siguientes lineas\n",
        "mi_frase = \"Aprender Python es muy sencillo\"\n",
        "segunda_frase = 'Solo hay que practicar'\n",
        "print(mi_frase)\n",
        "print(segunda_frase)"
      ]
    },
    {
      "cell_type": "code",
      "execution_count": null,
      "metadata": {
        "id": "-XZW5iajIBTS"
      },
      "outputs": [],
      "source": [
        "mi_frase = \"esta es una frase\""
      ]
    },
    {
      "cell_type": "markdown",
      "metadata": {
        "id": "G8d-4VMeIBTS"
      },
      "source": [
        "##### Comillas"
      ]
    },
    {
      "cell_type": "markdown",
      "metadata": {
        "id": "Pmq_j8hLIBTT"
      },
      "source": [
        "Como habras observado arriba, se pueden utilizar comillas dobles como simples para definir strings. La regla es que utilices las mismas comillas para **abrir y cerrar** el string."
      ]
    },
    {
      "cell_type": "code",
      "execution_count": null,
      "metadata": {
        "colab": {
          "base_uri": "https://localhost:8080/"
        },
        "id": "03KWLMobIBTT",
        "outputId": "dc86ecd7-adb6-44f8-9817-55706ac0933d"
      },
      "outputs": [
        {
          "output_type": "stream",
          "name": "stdout",
          "text": [
            "Aca va un string\n",
            "<class 'str'>\n"
          ]
        }
      ],
      "source": [
        "#Define un string que quieras y asignaselo a la variable mi_primer_string\n",
        "mi_primer_string = \"Aca va un string\"\n",
        "\n",
        "#Imprime la variable mi_primer_string\n",
        "print(mi_primer_string)\n",
        "print (type(mi_primer_string))"
      ]
    },
    {
      "cell_type": "code",
      "execution_count": null,
      "metadata": {
        "id": "NAMsr3V_IBTT"
      },
      "outputs": [],
      "source": [
        "#Define un segundo string y asignaselo a la variable segundo_string\n",
        "segundo_string = \" Aca va otro string\""
      ]
    },
    {
      "cell_type": "code",
      "execution_count": null,
      "metadata": {
        "colab": {
          "base_uri": "https://localhost:8080/"
        },
        "id": "qRk5ePK-IBTT",
        "outputId": "7a6ef784-86c2-486e-9962-f0ab489811db"
      },
      "outputs": [
        {
          "output_type": "stream",
          "name": "stdout",
          "text": [
            "Aca va un string Aca va otro string\n"
          ]
        }
      ],
      "source": [
        "#Ahora aplica el operador suma (+) entre las dos variables y fijate que pasa\n",
        "print(mi_primer_string + segundo_string)"
      ]
    },
    {
      "cell_type": "markdown",
      "metadata": {
        "id": "jO2zL0XpIBTT"
      },
      "source": [
        "Como observaste los strings también pueden sumarse, o en terminos más correctos, concatenarse."
      ]
    },
    {
      "cell_type": "markdown",
      "metadata": {
        "id": "xsES2X43IBTT"
      },
      "source": [
        "Python también nos permite acceder a un elemento del string o una porción de él. Esto se realiza mediante el uso de **indices** que se especifican con corchetes `[]`."
      ]
    },
    {
      "cell_type": "code",
      "execution_count": null,
      "metadata": {
        "colab": {
          "base_uri": "https://localhost:8080/"
        },
        "id": "QUROAaUAIBTT",
        "outputId": "9f75239f-d46c-41a2-8f14-7e15a9c4466a"
      },
      "outputs": [
        {
          "output_type": "stream",
          "name": "stdout",
          "text": [
            "Acceder a un caracter es facil\n"
          ]
        }
      ],
      "source": [
        "#Defino un string\n",
        "prueba_indice = \"Acceder a un caracter es facil\"\n",
        "print(prueba_indice)"
      ]
    },
    {
      "cell_type": "code",
      "execution_count": null,
      "metadata": {
        "id": "_jmrKut2IBTU"
      },
      "outputs": [],
      "source": []
    },
    {
      "cell_type": "code",
      "execution_count": null,
      "metadata": {
        "colab": {
          "base_uri": "https://localhost:8080/"
        },
        "id": "zLNRn9FuIBTU",
        "outputId": "2dee00f1-6be4-47fc-d574-a1a9b7e199e1"
      },
      "outputs": [
        {
          "output_type": "stream",
          "name": "stdout",
          "text": [
            "c\n"
          ]
        }
      ],
      "source": [
        "print(prueba_indice[1])"
      ]
    },
    {
      "cell_type": "code",
      "execution_count": null,
      "metadata": {
        "colab": {
          "base_uri": "https://localhost:8080/",
          "height": 35
        },
        "id": "-YPuFh7xIBTU",
        "outputId": "377e113a-b20f-4084-b0e4-247fc2b0cae7"
      },
      "outputs": [
        {
          "output_type": "execute_result",
          "data": {
            "text/plain": [
              "'d'"
            ],
            "application/vnd.google.colaboratory.intrinsic+json": {
              "type": "string"
            }
          },
          "metadata": {},
          "execution_count": 47
        }
      ],
      "source": [
        "prueba_indice[4]"
      ]
    },
    {
      "cell_type": "code",
      "execution_count": null,
      "metadata": {
        "colab": {
          "base_uri": "https://localhost:8080/",
          "height": 35
        },
        "id": "-GM8ATm7IBTU",
        "outputId": "072cb87d-5b77-4eff-ea1a-8b1b743e77fe"
      },
      "outputs": [
        {
          "output_type": "execute_result",
          "data": {
            "text/plain": [
              "'r'"
            ],
            "application/vnd.google.colaboratory.intrinsic+json": {
              "type": "string"
            }
          },
          "metadata": {},
          "execution_count": 48
        }
      ],
      "source": [
        "#Accedo al cuarto caracter\n",
        "prueba_indice[6]"
      ]
    },
    {
      "cell_type": "markdown",
      "metadata": {
        "id": "spIEGkIQIBTU"
      },
      "source": [
        "**¿Observaste bien?** Si especifico el indice 3, me trae el 4to caracter. Esto es porque en Python los indices comienzan en 0. Entonces, el primer caracter tiene indice 0, el segundo 1 y asi sucesivamente."
      ]
    },
    {
      "cell_type": "code",
      "execution_count": null,
      "metadata": {
        "colab": {
          "base_uri": "https://localhost:8080/"
        },
        "id": "yfX4AVWdIBTU",
        "outputId": "4292eb3c-45a2-477e-ba0a-2ff3c5375051"
      },
      "outputs": [
        {
          "output_type": "stream",
          "name": "stdout",
          "text": [
            " \n",
            "d\n"
          ]
        }
      ],
      "source": [
        "#Accede al octavo caracter del string prueba_indice\n",
        "print(prueba_indice[7])\n",
        "\n",
        "#Accede al quinto caracter del string prueba_indice\n",
        "print(prueba_indice[4])"
      ]
    },
    {
      "cell_type": "markdown",
      "metadata": {
        "id": "Iw1MCkmxIBTU"
      },
      "source": [
        "También es posible acceder a una porción del string. Esto se hace utilizando también corchetes `[]`, pero se especifica el indice donde comienzo, luego `:` y luego el indice donde termino."
      ]
    },
    {
      "cell_type": "code",
      "execution_count": null,
      "metadata": {
        "colab": {
          "base_uri": "https://localhost:8080/"
        },
        "id": "7xHRCLwmIBTV",
        "outputId": "706a7a2a-257d-4d9d-b6fd-8943ade6b0c2"
      },
      "outputs": [
        {
          "output_type": "stream",
          "name": "stdout",
          "text": [
            "ceder a un caracter \n"
          ]
        }
      ],
      "source": [
        "#Corre la siguiente linea\n",
        "print(prueba_indice[2:22])"
      ]
    },
    {
      "cell_type": "code",
      "execution_count": null,
      "metadata": {
        "colab": {
          "base_uri": "https://localhost:8080/"
        },
        "id": "qpcmoVzJIBTV",
        "outputId": "3b1e9015-535c-4871-8d14-8f629f0fc71d"
      },
      "outputs": [
        {
          "output_type": "stream",
          "name": "stdout",
          "text": [
            "licaf se retcarac nu a redeccA\n"
          ]
        }
      ],
      "source": [
        "print(prueba_indice[::-1])"
      ]
    },
    {
      "cell_type": "markdown",
      "metadata": {
        "id": "ew-gPFH0IBTV"
      },
      "source": [
        "**¿Notaste algo en particular?** Para poder traer la porción entre el 9no y el 22do caracter, debo especificar el caracter donde comienza (`8`) y la posición donde termina (`21`).   \n",
        "Sin embargo, especificamos 22. ¿Por qué? Porque Python **SIEMPRE excluye** la última posición que le especifiquemos. Entonces si especificamos hasta 21, traera hasta el 20. Si queremos hasta el 21 inclusive, debemos colocar 22 entonces."
      ]
    },
    {
      "cell_type": "code",
      "execution_count": null,
      "metadata": {
        "id": "fN0sEpSNIBTV"
      },
      "outputs": [],
      "source": [
        "#asigna el string a la variable mi_frase_prueba\n",
        "mi_frase_prueba = \"Es esencial que leas mucho\"\n",
        "mi_segunda_prueba = \"Para muchos era invisible aunque sus ojos se destacaban\""
      ]
    },
    {
      "cell_type": "code",
      "execution_count": null,
      "metadata": {
        "id": "ZJqOimCzIBTV"
      },
      "outputs": [],
      "source": [
        "#Selecciona el substring esencial de la variable mi_frase_prueba y asignalo a la variable primera_palabra\n",
        "primera_palabra = mi_frase_prueba[3:11]\n",
        "\n",
        "#Selecciona el substring invisible de la variable mi_segunda_prueba y asignalo a la variable segunda_palabra\n",
        "segunda_palabra = mi_segunda_prueba[16:25]\n",
        "\n",
        "#Selecciona el substring ojos de la variable mi_segunda_prueba y asignalo a la variable tercera_palabra\n",
        "tercera_palabra = mi_segunda_prueba[37:41]"
      ]
    },
    {
      "cell_type": "code",
      "execution_count": null,
      "metadata": {
        "colab": {
          "base_uri": "https://localhost:8080/"
        },
        "id": "bU1C3L25fm6C",
        "outputId": "adc562b6-70cf-4fb6-f347-6f3724d28438"
      },
      "outputs": [
        {
          "output_type": "stream",
          "name": "stdout",
          "text": [
            "esencial\n"
          ]
        }
      ],
      "source": [
        "print(primera_palabra)"
      ]
    },
    {
      "cell_type": "code",
      "execution_count": null,
      "metadata": {
        "colab": {
          "base_uri": "https://localhost:8080/"
        },
        "id": "RNeVNAAjIBTV",
        "outputId": "573f7c5c-0104-43a6-a3b1-8fe2258b236f"
      },
      "outputs": [
        {
          "name": "stdout",
          "output_type": "stream",
          "text": [
            "Lo esencial es invisible a los ojos\n"
          ]
        }
      ],
      "source": [
        "#Concatena los strings \"Lo\", primera_palabra, \"es\", segunda_palabra, \"a los\", tercera_palabra.\n",
        "#Imprime el resultado. No te olvides de especificar espacios usando el string \" \"\n",
        "print(\"Lo\"+\" \"+primera_palabra+\" \"+\"es \"+segunda_palabra+\" \"+\"a los\"+\" \"+tercera_palabra)"
      ]
    },
    {
      "cell_type": "code",
      "execution_count": null,
      "metadata": {
        "colab": {
          "base_uri": "https://localhost:8080/",
          "height": 35
        },
        "id": "AxHgpzxTIBTV",
        "outputId": "02e35d2a-9b96-4778-f7c3-217e30f39ed3"
      },
      "outputs": [
        {
          "output_type": "execute_result",
          "data": {
            "text/plain": [
              "'ojos 4'"
            ],
            "application/vnd.google.colaboratory.intrinsic+json": {
              "type": "string"
            }
          },
          "metadata": {},
          "execution_count": 59
        }
      ],
      "source": [
        "#Ahora concatena tercera_palabra y la variable mi_numero definida anteriormente\n",
        "tercera_palabra + \" 4\"\n",
        "\n"
      ]
    },
    {
      "cell_type": "markdown",
      "metadata": {
        "id": "8mIkPPfRIBTW"
      },
      "source": [
        "Como podrás ver no es posible concatenar variables de distintos tipos. Sin embargo, hay algunas funciones que nos brinda Python que nos permiten transformar entre tipos de variables."
      ]
    },
    {
      "cell_type": "markdown",
      "metadata": {
        "id": "O1LcOIM4IBTW"
      },
      "source": [
        "\n",
        "\n",
        "```\n",
        "# Tiene formato de código\n",
        "```\n",
        "\n",
        "- `str()` convierte a string una variable o valor"
      ]
    },
    {
      "cell_type": "code",
      "execution_count": null,
      "metadata": {
        "colab": {
          "base_uri": "https://localhost:8080/"
        },
        "id": "Ui6e_FMMIBTW",
        "outputId": "852246fc-9e87-4546-b311-1a69ed90c914"
      },
      "outputs": [
        {
          "output_type": "stream",
          "name": "stdout",
          "text": [
            "4\n"
          ]
        }
      ],
      "source": [
        "print(mi_numero)"
      ]
    },
    {
      "cell_type": "code",
      "execution_count": null,
      "metadata": {
        "id": "7fcObXuQIBTW"
      },
      "outputs": [],
      "source": [
        "#Aplica la función str a la variable mi_numero y guardala en la variable mi_numero_str\n",
        "mi_numero_str = str(mi_numero)"
      ]
    },
    {
      "cell_type": "code",
      "execution_count": null,
      "metadata": {
        "colab": {
          "base_uri": "https://localhost:8080/"
        },
        "id": "wJRkFVlGIBTW",
        "outputId": "a3164e50-9e08-47f8-8b98-1220939e2f59"
      },
      "outputs": [
        {
          "name": "stdout",
          "output_type": "stream",
          "text": [
            "<class 'str'>\n"
          ]
        }
      ],
      "source": [
        "print(type(mi_numero_str))"
      ]
    },
    {
      "cell_type": "code",
      "execution_count": null,
      "metadata": {
        "colab": {
          "base_uri": "https://localhost:8080/",
          "height": 35
        },
        "id": "d8Zi0HljIBTW",
        "outputId": "1c6b033b-a782-4336-f352-3336b87ec923"
      },
      "outputs": [
        {
          "output_type": "execute_result",
          "data": {
            "text/plain": [
              "'ojos4'"
            ],
            "application/vnd.google.colaboratory.intrinsic+json": {
              "type": "string"
            }
          },
          "metadata": {},
          "execution_count": 57
        }
      ],
      "source": [
        "#Concatena tercera_palabra y mi_numero_str\n",
        "tercera_palabra + mi_numero_str"
      ]
    },
    {
      "cell_type": "markdown",
      "metadata": {
        "id": "l8gt2qHHIBTW"
      },
      "source": [
        "- `int()` convierte a entero una variable o valor"
      ]
    },
    {
      "cell_type": "code",
      "execution_count": null,
      "metadata": {
        "colab": {
          "base_uri": "https://localhost:8080/"
        },
        "id": "pS_4NoqzIBTW",
        "outputId": "42a7fc9f-fbf8-4512-e89a-f442428232f0"
      },
      "outputs": [
        {
          "output_type": "execute_result",
          "data": {
            "text/plain": [
              "4"
            ]
          },
          "metadata": {},
          "execution_count": 58
        }
      ],
      "source": [
        "int(\"4\")"
      ]
    },
    {
      "cell_type": "code",
      "execution_count": null,
      "metadata": {
        "colab": {
          "base_uri": "https://localhost:8080/"
        },
        "id": "r7BIAkemIBTW",
        "outputId": "241bb7e1-8e0d-4025-9b73-cf4025aaae38"
      },
      "outputs": [
        {
          "data": {
            "text/plain": [
              "20.0"
            ]
          },
          "execution_count": 52,
          "metadata": {},
          "output_type": "execute_result"
        }
      ],
      "source": [
        "#Aplica la función int a mi_numero_str y multiplicalo por 5\n",
        "\n",
        "float(mi_numero_str) * 5"
      ]
    },
    {
      "cell_type": "markdown",
      "metadata": {
        "id": "Nnhv8RTBIBTX"
      },
      "source": [
        "Otras funciones similares son: [`float()`](https://docs.python.org/3/library/functions.html#float) y [`bool()`](https://docs.python.org/3/library/functions.html#bool)."
      ]
    },
    {
      "cell_type": "markdown",
      "metadata": {
        "id": "58oKXEo2IBTX"
      },
      "source": [
        "#### Inmutables"
      ]
    },
    {
      "cell_type": "markdown",
      "metadata": {
        "id": "S4-vLYcLIBTX"
      },
      "source": [
        "Todos los tipos de variables que vimos hasta ahora son **inmutables**. Esto significa que no pueden ser alteradas después de haber sido creadas."
      ]
    },
    {
      "cell_type": "code",
      "execution_count": null,
      "metadata": {
        "colab": {
          "base_uri": "https://localhost:8080/"
        },
        "id": "Y0PS_eZ7IBTX",
        "outputId": "f42bbe4f-9fc5-4111-a661-d2025e9ad9d6"
      },
      "outputs": [
        {
          "output_type": "stream",
          "name": "stdout",
          "text": [
            "n\n"
          ]
        }
      ],
      "source": [
        "#Corre la siguiente linea y observa que occurre\n",
        "variable_inmutable = \"Los strings son inmutables en Python\"\n",
        "#variable_inmutable[8] = \"f\"\n",
        "print(variable_inmutable[8])"
      ]
    },
    {
      "cell_type": "code",
      "execution_count": null,
      "metadata": {
        "id": "j2zdu_k9IBTX"
      },
      "outputs": [],
      "source": [
        "from datetime import datetime"
      ]
    },
    {
      "cell_type": "code",
      "execution_count": null,
      "metadata": {
        "id": "Mt1uAcXKIBTX"
      },
      "outputs": [],
      "source": [
        "mi_fecha = 'marzo 2'"
      ]
    },
    {
      "cell_type": "code",
      "execution_count": null,
      "metadata": {
        "colab": {
          "base_uri": "https://localhost:8080/"
        },
        "id": "mHoq1k4SIMrr",
        "outputId": "d09ec6cc-5fa3-4d3c-adce-a67ed6ba3653"
      },
      "outputs": [
        {
          "output_type": "stream",
          "name": "stdout",
          "text": [
            "marzo 2\n"
          ]
        }
      ],
      "source": [
        "print(mi_fecha)\n"
      ]
    },
    {
      "cell_type": "code",
      "execution_count": null,
      "metadata": {
        "colab": {
          "base_uri": "https://localhost:8080/"
        },
        "id": "W5nkwHxiIBTX",
        "outputId": "998b4e4a-8f86-49df-9f7d-b875344e996a"
      },
      "outputs": [
        {
          "output_type": "execute_result",
          "data": {
            "text/plain": [
              "datetime.datetime(2025, 3, 2, 0, 0)"
            ]
          },
          "metadata": {},
          "execution_count": 68
        }
      ],
      "source": [
        "print\n",
        "datetime (2025,3,2)"
      ]
    },
    {
      "cell_type": "markdown",
      "metadata": {
        "id": "6obgxdlRIBTX"
      },
      "source": [
        "Lo que nos dice el error, es que una vez asignada una variable, no puedo cambiar parte de ella."
      ]
    },
    {
      "cell_type": "markdown",
      "metadata": {
        "id": "HjuwQ9AAIBTY"
      },
      "source": [
        "Además de los mencionados hasta ahora, Python nos ofrece otras estructura de datos que son más flexibles y permiten agrupar varios valores. Además muchas de ellas son mutables, es decir, permiten que asignemos o alteremos valores una vez definidas."
      ]
    },
    {
      "cell_type": "markdown",
      "metadata": {
        "id": "v_vhEv3VIBTY"
      },
      "source": [
        "### LISTAS"
      ]
    },
    {
      "cell_type": "markdown",
      "metadata": {
        "id": "YdsmqISjIBTY"
      },
      "source": [
        "Una lista es una collección **mutable** de elementos **ORDENADOS**, que pueden ser de distinto tipo. Las listas se crean utilizando corchetes como en el ejemplo."
      ]
    },
    {
      "cell_type": "code",
      "execution_count": null,
      "metadata": {
        "colab": {
          "base_uri": "https://localhost:8080/"
        },
        "id": "rdOeMv3uIBTY",
        "outputId": "e51f9738-4180-4d3e-ef22-b9af2e724b97"
      },
      "outputs": [
        {
          "output_type": "stream",
          "name": "stdout",
          "text": [
            "['mi', 'lista', 3, 4.5, True]\n",
            "<class 'list'>\n"
          ]
        }
      ],
      "source": [
        "#Corre la siguiente linea para declarar la lista mi_lista\n",
        "mi_lista = [\"mi\", \"lista\", 3, 4.5, True]\n",
        "\n",
        "#Muestra el contenido de la variable mi_lista\n",
        "print(mi_lista)\n",
        "\n",
        "#Chequea el tipo de variable de mi_lista\n",
        "print(type(mi_lista))"
      ]
    },
    {
      "cell_type": "code",
      "execution_count": null,
      "metadata": {
        "colab": {
          "base_uri": "https://localhost:8080/"
        },
        "id": "H-SbcwVqTgMV",
        "outputId": "ad0ce7bd-da15-4b88-9b5e-7208bf5d8211"
      },
      "outputs": [
        {
          "output_type": "stream",
          "name": "stdout",
          "text": [
            "['musica', 4]\n"
          ]
        }
      ],
      "source": [
        "listi = [\"musica\", 4]\n",
        "print(listi)"
      ]
    },
    {
      "cell_type": "code",
      "execution_count": null,
      "metadata": {
        "colab": {
          "base_uri": "https://localhost:8080/"
        },
        "id": "eozNbOpmUkVq",
        "outputId": "4bd30123-de80-420f-e8f8-82f7b37912bf"
      },
      "outputs": [
        {
          "output_type": "stream",
          "name": "stdout",
          "text": [
            "4\n"
          ]
        }
      ],
      "source": [
        "print(listi[1])"
      ]
    },
    {
      "cell_type": "code",
      "execution_count": null,
      "metadata": {
        "colab": {
          "base_uri": "https://localhost:8080/"
        },
        "id": "M9dpSh0KIBTY",
        "outputId": "c6824acd-8cdc-4282-e6ff-da1f21f22b62"
      },
      "outputs": [
        {
          "name": "stdout",
          "output_type": "stream",
          "text": [
            "['mi', 'lista', 3, 4.5, True]\n"
          ]
        }
      ],
      "source": [
        "print(mi_lista)"
      ]
    },
    {
      "cell_type": "code",
      "execution_count": null,
      "metadata": {
        "id": "3STwc44kIBTY"
      },
      "outputs": [],
      "source": [
        "#Define una lista que contenga 10 elementos y asignaselos a la variable primer_lista\n",
        "primer_lista = [3, 4, 5, 14, \"hola\", 4, \"rojo\", False, \"AZUL\", True]"
      ]
    },
    {
      "cell_type": "markdown",
      "metadata": {
        "id": "MKAQxAumIBTY"
      },
      "source": [
        "Para poder acceder a un elemento en una lista, vamos a usar indices al igual que lo hicimos con los strings. También podemos obtener parte de la lista usando la notación `lista[n:m]` como lo hicimos en los strings.  \n",
        "Algo que no dijimos es que si omito el primer indice, `lista[:m]`, esto indica que mi substring comienza con el indice 0, y si omito el segundo indice `lista[n:]` indica que mi substring va hasta el final de la lista."
      ]
    },
    {
      "cell_type": "code",
      "execution_count": null,
      "metadata": {
        "colab": {
          "base_uri": "https://localhost:8080/"
        },
        "id": "32wu0OtvIBTZ",
        "outputId": "0a4e1949-8fea-4de1-9c67-b0ad674fac93"
      },
      "outputs": [
        {
          "output_type": "stream",
          "name": "stdout",
          "text": [
            "14\n"
          ]
        }
      ],
      "source": [
        "#Imprime el cuarto elemento de la lista primer_lista\n",
        "print(primer_lista[3])"
      ]
    },
    {
      "cell_type": "code",
      "execution_count": null,
      "metadata": {
        "colab": {
          "base_uri": "https://localhost:8080/"
        },
        "id": "KTya2MHeIBTZ",
        "outputId": "0fa6ac05-19ea-4fb6-e3a1-ff529893b7ad"
      },
      "outputs": [
        {
          "output_type": "stream",
          "name": "stdout",
          "text": [
            "6\n"
          ]
        }
      ],
      "source": [
        "#Imprime el resultado de sumar los numeros 2 y 4 contenidos en la siguiente lista\n",
        "mis_numeros = [3, 5, 6, 4, 21, 2, 5]\n",
        "\n",
        "print(mis_numeros[3]+mis_numeros[5])"
      ]
    },
    {
      "cell_type": "code",
      "execution_count": null,
      "metadata": {
        "id": "kA-3X2TAIBTZ"
      },
      "outputs": [],
      "source": [
        "primer_lista[5] = 4\n",
        "#acá cambiamos la palabra chau de la lista por el valor 4 para poder obtener la 5 variable"
      ]
    },
    {
      "cell_type": "code",
      "execution_count": null,
      "metadata": {
        "colab": {
          "base_uri": "https://localhost:8080/"
        },
        "id": "1Nj70aSVIBTZ",
        "outputId": "1ac34a0d-5c89-4005-93c6-bb011b3bfe1a"
      },
      "outputs": [
        {
          "output_type": "stream",
          "name": "stdout",
          "text": [
            "[3, 4, 5, 14, 'hola', 4, 'rojo', False, 'AZUL', True]\n"
          ]
        }
      ],
      "source": [
        "print(primer_lista)"
      ]
    },
    {
      "cell_type": "markdown",
      "metadata": {
        "id": "mpz6p5j1IBTZ"
      },
      "source": [
        "Hasta ahora vimos solo como acceder utilizando indices positivos, pero también podemos acceder usando **indices negativos**. El último caracter tendra el indice -1, el anteultimo -2 y así sucesivamente."
      ]
    },
    {
      "cell_type": "code",
      "execution_count": null,
      "metadata": {
        "colab": {
          "base_uri": "https://localhost:8080/"
        },
        "id": "HUyx-8CGIBTZ",
        "outputId": "6f6a4550-f222-4493-89b2-6643e3066fe9"
      },
      "outputs": [
        {
          "output_type": "execute_result",
          "data": {
            "text/plain": [
              "True"
            ]
          },
          "metadata": {},
          "execution_count": 79
        }
      ],
      "source": [
        "#Imprime el ultimo elemento de la lista primer_lista\n",
        "primer_lista[-1]"
      ]
    },
    {
      "cell_type": "code",
      "execution_count": null,
      "metadata": {
        "colab": {
          "base_uri": "https://localhost:8080/"
        },
        "id": "Ih9bthW6IBTZ",
        "outputId": "b2fd8527-287d-44d1-e11b-34a9728bd399"
      },
      "outputs": [
        {
          "output_type": "execute_result",
          "data": {
            "text/plain": [
              "[14, 'hola', 4]"
            ]
          },
          "metadata": {},
          "execution_count": 80
        }
      ],
      "source": [
        "#Imprime la sublista que va desde el cuarto elemento hasta el sexto elemento inclusive de la lista primer_lista\n",
        "primer_lista[3:6]"
      ]
    },
    {
      "cell_type": "code",
      "execution_count": null,
      "metadata": {
        "colab": {
          "base_uri": "https://localhost:8080/"
        },
        "id": "7fzCCROQIBTa",
        "outputId": "bce15d29-3092-4015-dc0a-15f7f5a9add0"
      },
      "outputs": [
        {
          "output_type": "stream",
          "name": "stdout",
          "text": [
            "[3, 4, 5, 14, 'hola']\n",
            "[4, 'rojo', False, 'AZUL', True]\n"
          ]
        }
      ],
      "source": [
        "#Imprime la sublista que contenga los primeros cinco elementos de primer_lista\n",
        "print(primer_lista[:5])\n",
        "\n",
        "#Imprime la sublista que contenga los últimos cinco elementos de primer_lista\n",
        "print(primer_lista[-5:])"
      ]
    },
    {
      "cell_type": "markdown",
      "metadata": {
        "id": "Yculi1vPIBTa"
      },
      "source": [
        "La función `len()` nos permite saber cuantos elementos hay en una lista."
      ]
    },
    {
      "cell_type": "code",
      "execution_count": null,
      "metadata": {
        "colab": {
          "base_uri": "https://localhost:8080/"
        },
        "id": "RaZDvcLGU9OK",
        "outputId": "0901c9f7-206f-49f6-9c44-43d7725d9751"
      },
      "outputs": [
        {
          "output_type": "execute_result",
          "data": {
            "text/plain": [
              "2"
            ]
          },
          "metadata": {},
          "execution_count": 82
        }
      ],
      "source": [
        "len(listi)"
      ]
    },
    {
      "cell_type": "code",
      "execution_count": null,
      "metadata": {
        "colab": {
          "base_uri": "https://localhost:8080/"
        },
        "id": "HmcifZipVJGm",
        "outputId": "db764d51-dc1e-4087-b18b-ac0ef3dddebe"
      },
      "outputs": [
        {
          "output_type": "execute_result",
          "data": {
            "text/plain": [
              "False"
            ]
          },
          "metadata": {},
          "execution_count": 83
        }
      ],
      "source": [
        "False in listi"
      ]
    },
    {
      "cell_type": "code",
      "execution_count": null,
      "metadata": {
        "colab": {
          "base_uri": "https://localhost:8080/"
        },
        "id": "7HKXyXgnIBTa",
        "outputId": "f61703d1-d0c0-4cda-d498-1a62fa7953bc"
      },
      "outputs": [
        {
          "output_type": "execute_result",
          "data": {
            "text/plain": [
              "22"
            ]
          },
          "metadata": {},
          "execution_count": 84
        }
      ],
      "source": [
        "#¿Cuantos elementos hay en la siguiente lista?\n",
        "elementos_listas = [12, 241, 141, 5151, \"hola\", \"python\", 41, 141, \"data science\", \"mujeres\", True, 343.98,\n",
        "                    \"hallway\", 11.25, \"kitchen\", 18.0,\n",
        "                    \"living room\", 20.0, \"bedroom\", 10.75, \"bathroom\", 9.50]\n",
        "\n",
        "#Numero elementos en lista\n",
        "len(elementos_listas)"
      ]
    },
    {
      "cell_type": "markdown",
      "metadata": {
        "id": "BDKUyHxGIBTa"
      },
      "source": [
        "El operador `in` nos permite saber si un elemento esta en una lista."
      ]
    },
    {
      "cell_type": "code",
      "execution_count": null,
      "metadata": {
        "colab": {
          "base_uri": "https://localhost:8080/"
        },
        "id": "kZfggC4_IBTa",
        "outputId": "55f98bd8-f26e-4fe3-81b0-508cc35a64b7"
      },
      "outputs": [
        {
          "output_type": "execute_result",
          "data": {
            "text/plain": [
              "False"
            ]
          },
          "metadata": {},
          "execution_count": 85
        }
      ],
      "source": [
        "#Chequea si False esta en elementos_lista\n",
        "False in elementos_listas"
      ]
    },
    {
      "cell_type": "markdown",
      "metadata": {
        "id": "ukCu6uUYIBTa"
      },
      "source": [
        "Dijimos que las listas son estructuras de datos que pueden alterarse, o son mutables. Eso significa que podemos reasignar valores una vez definida la lista. Para esto especificamos usando el indice que elemento(s) queremos redefinir y le asignamos un nuevo valor."
      ]
    },
    {
      "cell_type": "code",
      "execution_count": null,
      "metadata": {
        "colab": {
          "base_uri": "https://localhost:8080/",
          "height": 35
        },
        "id": "p3P1OQwpIBTa",
        "outputId": "e37a67bd-301d-49b9-9cd8-e8ad187592aa"
      },
      "outputs": [
        {
          "output_type": "execute_result",
          "data": {
            "text/plain": [
              "'hola'"
            ],
            "application/vnd.google.colaboratory.intrinsic+json": {
              "type": "string"
            }
          },
          "metadata": {},
          "execution_count": 86
        }
      ],
      "source": [
        "#Imprime el quinto elemento presente en elementos_lista\n",
        "elementos_listas[4]"
      ]
    },
    {
      "cell_type": "code",
      "execution_count": null,
      "metadata": {
        "id": "GPlQD3HRIBTb"
      },
      "outputs": [],
      "source": [
        "#Asigna ahora el valor \"chau\" al quinto elemento de elementos_lista\n",
        "elementos_listas[4] = 'chau'"
      ]
    },
    {
      "cell_type": "code",
      "execution_count": null,
      "metadata": {
        "colab": {
          "base_uri": "https://localhost:8080/"
        },
        "id": "F0Fa1NBmIBTb",
        "outputId": "80e35ab4-cae6-4ba6-e9a5-bc75e841339a"
      },
      "outputs": [
        {
          "output_type": "stream",
          "name": "stdout",
          "text": [
            "[12, 241, 141, 5151, 'chau', 'python', 41, 141, 'data science', 'mujeres', True, 343.98, 'hallway', 11.25, 'kitchen', 18.0, 'living room', 20.0, 'bedroom', 10.75, 'bathroom', 9.5]\n"
          ]
        }
      ],
      "source": [
        "#Imprime la lista elementos_lista\n",
        "print(elementos_listas)"
      ]
    },
    {
      "cell_type": "markdown",
      "metadata": {
        "id": "Ttzy9a_bIBTb"
      },
      "source": [
        "Las listas también se pueden concatenar utilizando el operador `+`."
      ]
    },
    {
      "cell_type": "code",
      "execution_count": null,
      "metadata": {
        "colab": {
          "base_uri": "https://localhost:8080/"
        },
        "id": "0szEB-XUIBTb",
        "outputId": "4396d21d-9b71-49df-8a37-6cb2548aed19"
      },
      "outputs": [
        {
          "name": "stdout",
          "output_type": "stream",
          "text": [
            "[12, 241, 141, 5151, 'chau', 'python', 41, 141, 'data science', 'mujeres', True, 343.98, 'hallway', 11.25, 'kitchen', 18.0, 'living room', 20.0, 'bedroom', 10.75, 'bathroom', 9.5, 3, 4, 5, 14, 'hola', 4, 'rojo', False, 'AZUL', True]\n"
          ]
        }
      ],
      "source": [
        "#Concatena las listas elementos_listas y primer_lista. Asignaselo a la variable nueva_lista\n",
        "nueva_lista = elementos_listas + primer_lista\n",
        "\n",
        "#Imprime nueva_lista\n",
        "print(nueva_lista)"
      ]
    },
    {
      "cell_type": "markdown",
      "metadata": {
        "id": "oWR5iUJWIBTb"
      },
      "source": [
        "### Diccionarios"
      ]
    },
    {
      "cell_type": "markdown",
      "metadata": {
        "id": "Zx3ilPX6IBTb"
      },
      "source": [
        "Otra estructura de datos muy útil son los diccionarios. Los diccionarios en Python son un tipo de estructuras de datos que permite guardar un conjunto **no ordenado** de pares **clave-valor**, siendo las claves únicas dentro de un mismo diccionario (es decir que no pueden existir dos elementos con una misma clave).\n",
        "\n",
        "En Python, los diccionarios se definen utilizando llaves `{}` y cada uno de los elementos estan separados por comas. Cada elemento lo definimos con su par clave:valor, pudiendo ser la clave y el valor de cualquier tipo (`int`, `float`, `string`, `bool`)."
      ]
    },
    {
      "cell_type": "code",
      "execution_count": null,
      "metadata": {
        "id": "rbunhNRiIBTb"
      },
      "outputs": [],
      "source": [
        "diccionario = {\n",
        "    #clave : valor\n",
        "    'Alberto' : [10, 87, True],\n",
        "    'John' : False,\n",
        "    'Juan' : 12,\n",
        "    'Amanda' : [43, 5],\n",
        "    'Maria': 45\n",
        "}"
      ]
    },
    {
      "cell_type": "code",
      "execution_count": null,
      "metadata": {
        "id": "hEY2lLyIVcyD"
      },
      "outputs": [],
      "source": [
        "diccionario2 = {\n",
        "    'marta': 34,\n",
        "    'roberto': True,\n",
        "    'solcito': 21,\n",
        "    'luis': 78\n",
        "}"
      ]
    },
    {
      "cell_type": "code",
      "execution_count": null,
      "metadata": {
        "colab": {
          "base_uri": "https://localhost:8080/"
        },
        "id": "4XyFweVsXRnt",
        "outputId": "8b97b168-3145-4fed-f024-dffeab4f84c2"
      },
      "outputs": [
        {
          "output_type": "execute_result",
          "data": {
            "text/plain": [
              "dict_keys(['marta', 'roberto', 'solcito', 'luis'])"
            ]
          },
          "metadata": {},
          "execution_count": 91
        }
      ],
      "source": [
        "diccionario2.keys()"
      ]
    },
    {
      "cell_type": "code",
      "execution_count": null,
      "metadata": {
        "colab": {
          "base_uri": "https://localhost:8080/"
        },
        "id": "9rS7XgkaXptQ",
        "outputId": "ba0eb2fd-c5de-42ba-ad2f-3a36ec0a6c8e"
      },
      "outputs": [
        {
          "output_type": "stream",
          "name": "stdout",
          "text": [
            "78\n"
          ]
        }
      ],
      "source": [
        "print(diccionario2 [\"luis\"])"
      ]
    },
    {
      "cell_type": "code",
      "execution_count": null,
      "metadata": {
        "id": "-zzJm4TVIBTc"
      },
      "outputs": [],
      "source": [
        "dictionary = {\n",
        "    9 : 'hola'\n",
        "}"
      ]
    },
    {
      "cell_type": "code",
      "execution_count": null,
      "metadata": {
        "colab": {
          "base_uri": "https://localhost:8080/",
          "height": 35
        },
        "id": "6fLfth-gIBTc",
        "outputId": "877b17a5-8096-4308-f3a4-cf8b6f34fd21"
      },
      "outputs": [
        {
          "output_type": "execute_result",
          "data": {
            "text/plain": [
              "'hola'"
            ],
            "application/vnd.google.colaboratory.intrinsic+json": {
              "type": "string"
            }
          },
          "metadata": {},
          "execution_count": 94
        }
      ],
      "source": [
        "dictionary[9]"
      ]
    },
    {
      "cell_type": "code",
      "execution_count": null,
      "metadata": {
        "colab": {
          "base_uri": "https://localhost:8080/"
        },
        "id": "TpJzkG_yIBTc",
        "outputId": "87102e6a-5a5f-41da-9089-2995a9845caf"
      },
      "outputs": [
        {
          "output_type": "execute_result",
          "data": {
            "text/plain": [
              "dict_keys(['Alberto', 'John', 'Juan', 'Amanda', 'Maria'])"
            ]
          },
          "metadata": {},
          "execution_count": 95
        }
      ],
      "source": [
        "#Corre la siguiente linea y observa el resultado\n",
        "diccionario.keys()"
      ]
    },
    {
      "cell_type": "markdown",
      "metadata": {
        "id": "e4HTNBICXnev"
      },
      "source": []
    },
    {
      "cell_type": "markdown",
      "metadata": {
        "id": "7T-_Ie0wIBTc"
      },
      "source": [
        "Para acceder a los valores, se hace mediante la clave utilizando también corchetes."
      ]
    },
    {
      "cell_type": "code",
      "execution_count": null,
      "metadata": {
        "colab": {
          "base_uri": "https://localhost:8080/"
        },
        "id": "BhMXJsggIBTc",
        "outputId": "40226e4a-fbf4-4810-f736-525c7db828ad"
      },
      "outputs": [
        {
          "output_type": "stream",
          "name": "stdout",
          "text": [
            "[10, 87, True]\n"
          ]
        }
      ],
      "source": [
        "#Imprime los valores asociados con la clave 'Alberto'\n",
        "print(diccionario['Alberto'])"
      ]
    },
    {
      "cell_type": "code",
      "execution_count": null,
      "metadata": {
        "colab": {
          "base_uri": "https://localhost:8080/"
        },
        "id": "pVIR3PPfIBTc",
        "outputId": "6fa93269-8ead-4c0d-a6a9-cda55e4ead75"
      },
      "outputs": [
        {
          "output_type": "execute_result",
          "data": {
            "text/plain": [
              "dict_values([[10, 87, True], False, 12, [43, 5], 45])"
            ]
          },
          "metadata": {},
          "execution_count": 97
        }
      ],
      "source": [
        "#Corre la siguiente linea y observa el resultado\n",
        "diccionario.values()"
      ]
    },
    {
      "cell_type": "markdown",
      "metadata": {
        "id": "ElGKFrOUIBTc"
      },
      "source": [
        "## Operadores Aritmeticos"
      ]
    },
    {
      "cell_type": "markdown",
      "metadata": {
        "id": "LX6vFGUeIBTd"
      },
      "source": [
        "Python puede usarse para hacer calculos básicos. Veamos alguna de las funciones que pueden ser utilizadas en Python."
      ]
    },
    {
      "cell_type": "code",
      "execution_count": null,
      "metadata": {
        "colab": {
          "base_uri": "https://localhost:8080/"
        },
        "id": "hR4ZBssNIBTd",
        "outputId": "3c4becbf-dbda-4f27-e238-8a07d991d5d8"
      },
      "outputs": [
        {
          "output_type": "stream",
          "name": "stdout",
          "text": [
            "7\n",
            "3\n",
            "15\n",
            "5.0\n"
          ]
        }
      ],
      "source": [
        "#Suma\n",
        "print(4 + 3)\n",
        "#Resta\n",
        "print(5 - 2)\n",
        "#Multiplicacion\n",
        "print(3 * 5)\n",
        "#División\n",
        "print(10 / 2)"
      ]
    },
    {
      "cell_type": "code",
      "execution_count": null,
      "metadata": {
        "colab": {
          "base_uri": "https://localhost:8080/"
        },
        "id": "jOFITeRbIBTd",
        "outputId": "545d0134-b7d2-4aaa-fe4f-e118b603f5d2"
      },
      "outputs": [
        {
          "output_type": "stream",
          "name": "stdout",
          "text": [
            "16\n",
            "4\n",
            "3\n"
          ]
        }
      ],
      "source": [
        "#Corre las siguientes celdas y descubre que funciones se utilizan\n",
        "print(4 ** 2)\n",
        "print(18 % 7)\n",
        "print(7//2)"
      ]
    },
    {
      "cell_type": "markdown",
      "metadata": {
        "id": "xztoOazpIBTd"
      },
      "source": [
        "### EXPLICACION\n",
        "**La primera funcion es la potenciación esto es $4^2$**\n",
        "\n",
        "**El operador % devuelve el resto de la division, en este caso entre 18 y 7**\n",
        "\n",
        "**El operador // devuelve el cociente de la division entre 7 y 3**"
      ]
    },
    {
      "cell_type": "markdown",
      "metadata": {
        "id": "JSNVpm39IBTd"
      },
      "source": [
        "Supongamos que tenemos \\$100, que podemos invertir obteniendo el 10\\% de interes cada año. Luego del primer año, tendremos 100\\*1.1, luego de dos años tendremos 100\\*1.1\\*1.1.\n",
        "**¿Cuanto tendrás luego de 7 años?**"
      ]
    },
    {
      "cell_type": "markdown",
      "metadata": {
        "id": "24TQ2DxdIBTd"
      },
      "source": [
        "Veremos tipos de operadores que nos permiten realizar comparaciones entre variables o valores."
      ]
    },
    {
      "cell_type": "code",
      "execution_count": null,
      "metadata": {
        "colab": {
          "base_uri": "https://localhost:8080/"
        },
        "id": "R81jLwTeOvMa",
        "outputId": "02972889-0e51-4b17-ab7b-aeba00c566d1"
      },
      "outputs": [
        {
          "output_type": "stream",
          "name": "stdout",
          "text": [
            "194.87171000000012\n"
          ]
        }
      ],
      "source": [
        "#calculo de la inversion de acá a 7 años\n",
        "print(100*(1.1**7))"
      ]
    },
    {
      "cell_type": "markdown",
      "metadata": {
        "id": "rYxxQBO1IBTd"
      },
      "source": [
        "### Operadores de comparación"
      ]
    },
    {
      "cell_type": "markdown",
      "metadata": {
        "id": "XjRGmK60IBTe"
      },
      "source": [
        "Hay varios operadores en Python que nos permiten comparar variables o estructura de datos. Observemos la siguiente lista:"
      ]
    },
    {
      "cell_type": "markdown",
      "metadata": {
        "id": "LZvCLmKvIBTe"
      },
      "source": [
        "`==` : los valores son iguales (**OJO!** Es común confundirse y usar `=`, pero acordate que este es usado para asignar variables)  \n",
        "`!=` : los valores no son iguales  \n",
        "`<` : el valor a la izquierda es menor que el valor a la derecha  \n",
        "`>` : el valor a la izquierda es mayor que el valor a la derecha  \n",
        "`<=` : el valor a la izquierda es menor o igual que el valor a la derecha  \n",
        "`>=` : el valor a la izquierda es mayor o igual que el valor a la derecha  "
      ]
    },
    {
      "cell_type": "code",
      "execution_count": null,
      "metadata": {
        "colab": {
          "base_uri": "https://localhost:8080/"
        },
        "id": "4HplLmBBIBTe",
        "outputId": "b1ba280e-e39b-4a2b-c13a-df2a396c0016"
      },
      "outputs": [
        {
          "output_type": "stream",
          "name": "stdout",
          "text": [
            "True\n"
          ]
        }
      ],
      "source": [
        "print(mi_bool)"
      ]
    },
    {
      "cell_type": "code",
      "execution_count": null,
      "metadata": {
        "colab": {
          "base_uri": "https://localhost:8080/"
        },
        "id": "PNMNXOpZIBTe",
        "outputId": "b6435d7d-7d7c-40b1-f063-4e22403576fd"
      },
      "outputs": [
        {
          "output_type": "stream",
          "name": "stdout",
          "text": [
            "False\n"
          ]
        }
      ],
      "source": [
        "print(otra_bool)"
      ]
    },
    {
      "cell_type": "code",
      "execution_count": null,
      "metadata": {
        "colab": {
          "base_uri": "https://localhost:8080/"
        },
        "id": "x-yxh0l8IBTe",
        "outputId": "ee34163c-5d3f-4bcf-d5d5-11e45b397792"
      },
      "outputs": [
        {
          "output_type": "execute_result",
          "data": {
            "text/plain": [
              "False"
            ]
          },
          "metadata": {},
          "execution_count": 102
        }
      ],
      "source": [
        "#Chequea si las variables mi_bool y otra_bool que definiste mas arriba son iguales\n",
        "mi_bool == otra_bool"
      ]
    },
    {
      "cell_type": "code",
      "execution_count": null,
      "metadata": {
        "colab": {
          "base_uri": "https://localhost:8080/"
        },
        "id": "0hDJV61IIBTe",
        "outputId": "3c55117b-9a97-437b-ad0f-48f93cca932f"
      },
      "outputs": [
        {
          "output_type": "execute_result",
          "data": {
            "text/plain": [
              "False"
            ]
          },
          "metadata": {},
          "execution_count": 103
        }
      ],
      "source": [
        "mi_bool and otra_bool"
      ]
    },
    {
      "cell_type": "code",
      "execution_count": null,
      "metadata": {
        "colab": {
          "base_uri": "https://localhost:8080/"
        },
        "id": "lLyl2WY-IBTf",
        "outputId": "9cafe81f-d458-43ff-c39a-402cfd332919"
      },
      "outputs": [
        {
          "output_type": "execute_result",
          "data": {
            "text/plain": [
              "True"
            ]
          },
          "metadata": {},
          "execution_count": 104
        }
      ],
      "source": [
        "mi_bool or otra_bool"
      ]
    },
    {
      "cell_type": "code",
      "execution_count": null,
      "metadata": {
        "colab": {
          "base_uri": "https://localhost:8080/"
        },
        "id": "7EWvXphhIBTf",
        "outputId": "8519d95b-cae8-48bf-cda5-531f0c61be89"
      },
      "outputs": [
        {
          "output_type": "stream",
          "name": "stdout",
          "text": [
            "4.9\n"
          ]
        }
      ],
      "source": [
        "print(float_numero)"
      ]
    },
    {
      "cell_type": "code",
      "execution_count": null,
      "metadata": {
        "colab": {
          "base_uri": "https://localhost:8080/"
        },
        "id": "A2Fc48JeIBTf",
        "outputId": "35845796-4a7d-4538-ac15-88d2916954db"
      },
      "outputs": [
        {
          "output_type": "execute_result",
          "data": {
            "text/plain": [
              "True"
            ]
          },
          "metadata": {},
          "execution_count": 106
        }
      ],
      "source": [
        "#Chequea si la variable float_numero es mayor a 4\n",
        "float_numero > 4"
      ]
    },
    {
      "cell_type": "code",
      "execution_count": null,
      "metadata": {
        "colab": {
          "base_uri": "https://localhost:8080/"
        },
        "id": "Q4Ej49lJIBTf",
        "outputId": "1a11fac0-f8d5-4322-8929-8c07e3be5976"
      },
      "outputs": [
        {
          "output_type": "execute_result",
          "data": {
            "text/plain": [
              "False"
            ]
          },
          "metadata": {},
          "execution_count": 108
        }
      ],
      "source": [
        "#Chequea si la longitud de la variable primer_lista es mayor o igual que la longitud de elementos_listas\n",
        "len(primer_lista) >= len(elementos_listas)"
      ]
    },
    {
      "cell_type": "code",
      "execution_count": null,
      "metadata": {
        "colab": {
          "base_uri": "https://localhost:8080/"
        },
        "id": "C8rfForKIBTf",
        "outputId": "4bd7f34b-4083-443d-cd98-cad3c7dcfe40"
      },
      "outputs": [
        {
          "output_type": "execute_result",
          "data": {
            "text/plain": [
              "False"
            ]
          },
          "metadata": {},
          "execution_count": 107
        }
      ],
      "source": [
        "#Chequea si el cuarto elemento de elementos_listas es menor o igual a multiplicar mi_numero por el segundo valor\n",
        "#asociado a la clave Alberto de diccionario\n",
        "mi_numero =5\n",
        "elementos_listas[3] <= mi_numero * diccionario['Alberto'][1]"
      ]
    },
    {
      "cell_type": "code",
      "execution_count": null,
      "metadata": {
        "id": "Yd3XHH95IBTf"
      },
      "outputs": [],
      "source": []
    }
  ],
  "metadata": {
    "colab": {
      "provenance": [],
      "include_colab_link": true
    },
    "kernelspec": {
      "display_name": "Python 3",
      "language": "python",
      "name": "python3"
    },
    "language_info": {
      "codemirror_mode": {
        "name": "ipython",
        "version": 3
      },
      "file_extension": ".py",
      "mimetype": "text/x-python",
      "name": "python",
      "nbconvert_exporter": "python",
      "pygments_lexer": "ipython3",
      "version": "3.7.8"
    }
  },
  "nbformat": 4,
  "nbformat_minor": 0
}