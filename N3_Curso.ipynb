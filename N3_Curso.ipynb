{
  "nbformat": 4,
  "nbformat_minor": 0,
  "metadata": {
    "kernelspec": {
      "display_name": "Python 3",
      "language": "python",
      "name": "python3"
    },
    "language_info": {
      "codemirror_mode": {
        "name": "ipython",
        "version": 3
      },
      "file_extension": ".py",
      "mimetype": "text/x-python",
      "name": "python",
      "nbconvert_exporter": "python",
      "pygments_lexer": "ipython3",
      "version": "3.7.3"
    },
    "colab": {
      "provenance": [],
      "include_colab_link": true
    }
  },
  "cells": [
    {
      "cell_type": "markdown",
      "metadata": {
        "id": "view-in-github",
        "colab_type": "text"
      },
      "source": [
        "<a href=\"https://colab.research.google.com/github/Guadalescano/Curso-Data-Science/blob/main/N3_Curso.ipynb\" target=\"_parent\"><img src=\"https://colab.research.google.com/assets/colab-badge.svg\" alt=\"Open In Colab\"/></a>"
      ]
    },
    {
      "cell_type": "markdown",
      "metadata": {
        "id": "fUZUxG1CfJKo"
      },
      "source": [
        "# Programa Ingenias+ Data Science"
      ]
    },
    {
      "cell_type": "markdown",
      "metadata": {
        "id": "ZfnZX-ohfJOA"
      },
      "source": [
        "## Clase 2: Funciones y Estructuras de control"
      ]
    },
    {
      "cell_type": "markdown",
      "metadata": {
        "id": "2x9qTs74fJOx"
      },
      "source": [
        "## EJERCICIOS"
      ]
    },
    {
      "cell_type": "markdown",
      "metadata": {
        "id": "KG9ZCYugfJOx"
      },
      "source": [
        "Vamos a poner en practica ahora todo lo que vimos:"
      ]
    },
    {
      "cell_type": "markdown",
      "metadata": {
        "id": "-x2byZQ8fJOx"
      },
      "source": [
        "- Escribi una función que tome dos números enteros y calcule su división, devolviendo si la división es exacta o no."
      ]
    },
    {
      "cell_type": "code",
      "metadata": {
        "id": "7vslfcCNfJOy",
        "outputId": "92284f8b-7823-455f-861e-74ceabfb11eb",
        "colab": {
          "base_uri": "https://localhost:8080/",
          "height": 35
        }
      },
      "source": [
        "def division(a, b):\n",
        " cociente = a // b\n",
        " resto = a % b # El porcentaje te devuelve el resto entre esos dos numeros\n",
        " if resto==0:  # Si es cero el resto es porque el numero es divisible en enteros\n",
        "   return \"la division es exacta\"\n",
        " else:\n",
        "   return \"la division no es exacta\"\n",
        "\n",
        "division(5,2)\n"
      ],
      "execution_count": null,
      "outputs": [
        {
          "output_type": "execute_result",
          "data": {
            "text/plain": [
              "'la division no es exacta'"
            ],
            "application/vnd.google.colaboratory.intrinsic+json": {
              "type": "string"
            }
          },
          "metadata": {},
          "execution_count": 2
        }
      ]
    },
    {
      "cell_type": "code",
      "metadata": {
        "id": "8OqSS2zmfJOz",
        "colab": {
          "base_uri": "https://localhost:8080/",
          "height": 35
        },
        "outputId": "84d6f78f-52a3-4f82-b63a-58e577fdf26c"
      },
      "source": [
        "division(100, 2)"
      ],
      "execution_count": null,
      "outputs": [
        {
          "output_type": "execute_result",
          "data": {
            "text/plain": [
              "'la division es exacta'"
            ],
            "application/vnd.google.colaboratory.intrinsic+json": {
              "type": "string"
            }
          },
          "metadata": {},
          "execution_count": 3
        }
      ]
    },
    {
      "cell_type": "code",
      "metadata": {
        "id": "7lgngWV4fJO1",
        "colab": {
          "base_uri": "https://localhost:8080/",
          "height": 35
        },
        "outputId": "e45ae927-e1cc-427e-809e-3b1773dbf42f"
      },
      "source": [
        "division(7, 3)"
      ],
      "execution_count": null,
      "outputs": [
        {
          "output_type": "execute_result",
          "data": {
            "text/plain": [
              "'la division no es exacta'"
            ],
            "application/vnd.google.colaboratory.intrinsic+json": {
              "type": "string"
            }
          },
          "metadata": {},
          "execution_count": 4
        }
      ]
    },
    {
      "cell_type": "markdown",
      "metadata": {
        "id": "-e0DATp4fJO3"
      },
      "source": [
        "- Escribi una función que tome un año y devuelva si es bisiesto o no."
      ]
    },
    {
      "cell_type": "code",
      "metadata": {
        "id": "xUetTz2jfJO3"
      },
      "source": [
        "def bisiesto (year):\n",
        "  bisiesto =  year % 4 == 0 and year % 100 != 0\n",
        "\n",
        "  if bisiesto : print (\" es un año bisiesto.\" )\n",
        "  else : print ( \" no es un año bisiesto.\" )\n"
      ],
      "execution_count": null,
      "outputs": []
    },
    {
      "cell_type": "code",
      "source": [
        "bisiesto(2020)"
      ],
      "metadata": {
        "colab": {
          "base_uri": "https://localhost:8080/"
        },
        "id": "HADKy9dQ8bJx",
        "outputId": "97b0b55e-c0b0-4848-e233-2f55954a4b0b"
      },
      "execution_count": null,
      "outputs": [
        {
          "output_type": "stream",
          "name": "stdout",
          "text": [
            " es un año bisiesto.\n"
          ]
        }
      ]
    },
    {
      "cell_type": "code",
      "metadata": {
        "id": "ONRDSQgVfJO4",
        "colab": {
          "base_uri": "https://localhost:8080/"
        },
        "outputId": "bdb066a4-77b8-4b8c-885d-843d18b77fa1"
      },
      "source": [
        "bisiesto(2012)"
      ],
      "execution_count": null,
      "outputs": [
        {
          "output_type": "stream",
          "name": "stdout",
          "text": [
            " es un año bisiesto.\n"
          ]
        }
      ]
    },
    {
      "cell_type": "code",
      "metadata": {
        "id": "ov_XeD1WfJO5",
        "colab": {
          "base_uri": "https://localhost:8080/"
        },
        "outputId": "49044799-23c2-4269-acd4-3e8c88b7ab53"
      },
      "source": [
        "bisiesto(2017)"
      ],
      "execution_count": null,
      "outputs": [
        {
          "output_type": "stream",
          "name": "stdout",
          "text": [
            " no es un año bisiesto.\n"
          ]
        }
      ]
    },
    {
      "cell_type": "markdown",
      "metadata": {
        "id": "urIjk2uPfJO7"
      },
      "source": [
        "- Escribi una función que tome los coeficientes de una ecuación de primer grado (a x + b = 0) y devuelva la solución."
      ]
    },
    {
      "cell_type": "code",
      "metadata": {
        "id": "MIqaoDZqfJO7"
      },
      "source": [
        "def solucion(a, b):\n",
        "    return -b/a"
      ],
      "execution_count": null,
      "outputs": []
    },
    {
      "cell_type": "code",
      "metadata": {
        "id": "YljqjJuTfJO8",
        "colab": {
          "base_uri": "https://localhost:8080/"
        },
        "outputId": "6344506f-6f93-4483-eb25-bc3271903842"
      },
      "source": [
        "solucion(2, 4)"
      ],
      "execution_count": null,
      "outputs": [
        {
          "output_type": "execute_result",
          "data": {
            "text/plain": [
              "-2.0"
            ]
          },
          "metadata": {},
          "execution_count": 10
        }
      ]
    },
    {
      "cell_type": "code",
      "metadata": {
        "id": "mIe9eoP5fJO_",
        "colab": {
          "base_uri": "https://localhost:8080/"
        },
        "outputId": "4fbbfbf5-1ee2-46b3-ea24-368c3ed3d620"
      },
      "source": [
        "solucion(-3, 5)"
      ],
      "execution_count": null,
      "outputs": [
        {
          "output_type": "execute_result",
          "data": {
            "text/plain": [
              "1.6666666666666667"
            ]
          },
          "metadata": {},
          "execution_count": 12
        }
      ]
    },
    {
      "cell_type": "code",
      "metadata": {
        "id": "djuJakLUfJPB",
        "colab": {
          "base_uri": "https://localhost:8080/"
        },
        "outputId": "c9040a19-5adc-4987-8da1-9d7481a35401"
      },
      "source": [
        "solucion(2, -8)"
      ],
      "execution_count": null,
      "outputs": [
        {
          "output_type": "execute_result",
          "data": {
            "text/plain": [
              "4.0"
            ]
          },
          "metadata": {},
          "execution_count": 13
        }
      ]
    },
    {
      "cell_type": "markdown",
      "metadata": {
        "id": "Xx7VliisfJPF"
      },
      "source": [
        "- Escribi una función que simule un juego en el que dos jugadores tiran un dado. El que saque el valor más alto, gana. Si la puntuación coincide, empatan."
      ]
    },
    {
      "cell_type": "code",
      "metadata": {
        "id": "LCrq4FUPfJPF"
      },
      "source": [
        "def juego(j1,j2):\n",
        "  if j1>j2:\n",
        "    return \"gana el jugador 1\"\n",
        "  elif j1<j2:\n",
        "    return \"gana el jugador 2\"\n",
        "  else:\n",
        "    return \"empate\""
      ],
      "execution_count": null,
      "outputs": []
    },
    {
      "cell_type": "code",
      "metadata": {
        "id": "H89mIbuEfJPH",
        "colab": {
          "base_uri": "https://localhost:8080/",
          "height": 35
        },
        "outputId": "b16d5712-1685-4f1f-c5c4-2c84eac1a069"
      },
      "source": [
        "juego(343, 545)"
      ],
      "execution_count": null,
      "outputs": [
        {
          "output_type": "execute_result",
          "data": {
            "text/plain": [
              "'gana el jugador 2'"
            ],
            "application/vnd.google.colaboratory.intrinsic+json": {
              "type": "string"
            }
          },
          "metadata": {},
          "execution_count": 16
        }
      ]
    },
    {
      "cell_type": "markdown",
      "metadata": {
        "id": "7Q28d5YdfJPJ"
      },
      "source": [
        "- Escribi una función que tome dos números enteros y devuelva qué número es pares y cuál impar."
      ]
    },
    {
      "cell_type": "code",
      "source": [
        "def par_impar(a, b):\n",
        "    if a % 2 == 0 and b % 2 == 0:\n",
        "        return \"par-par\"\n",
        "    if a % 2 != 0 and b % 2 != 0:\n",
        "        return \"impar-impar\"\n",
        "    if a % 2 == 0 and b % 2 != 0:\n",
        "        return \"par-impar\"\n",
        "    if a % 2 != 0 and b % 2 != 0:\n",
        "        return \"impar-impar\"\n",
        "\n"
      ],
      "metadata": {
        "id": "6xboZVN1D9s1"
      },
      "execution_count": null,
      "outputs": []
    },
    {
      "cell_type": "code",
      "metadata": {
        "id": "VRuaAWzsfJPK",
        "colab": {
          "base_uri": "https://localhost:8080/",
          "height": 35
        },
        "outputId": "bf174c8e-2140-41e6-cc02-c225f859d7bd"
      },
      "source": [
        "par_impar(4, 5)"
      ],
      "execution_count": null,
      "outputs": [
        {
          "output_type": "execute_result",
          "data": {
            "text/plain": [
              "'par-impar'"
            ],
            "application/vnd.google.colaboratory.intrinsic+json": {
              "type": "string"
            }
          },
          "metadata": {},
          "execution_count": 19
        }
      ]
    },
    {
      "cell_type": "code",
      "metadata": {
        "id": "caJU7DCSfJPM",
        "colab": {
          "base_uri": "https://localhost:8080/",
          "height": 35
        },
        "outputId": "7aced028-08ad-48b4-d85f-3b1f76b2b985"
      },
      "source": [
        "par_impar(4, 10)"
      ],
      "execution_count": null,
      "outputs": [
        {
          "output_type": "execute_result",
          "data": {
            "text/plain": [
              "'par-par'"
            ],
            "application/vnd.google.colaboratory.intrinsic+json": {
              "type": "string"
            }
          },
          "metadata": {},
          "execution_count": 20
        }
      ]
    },
    {
      "cell_type": "markdown",
      "metadata": {
        "id": "nuyiy5nKfJPN"
      },
      "source": [
        "- Escribi una función que tome una lista de números y calcule su suma."
      ]
    },
    {
      "cell_type": "code",
      "metadata": {
        "id": "JmMLvO3WfJPN"
      },
      "source": [
        "def suma_numeros(lista):\n",
        "  aux=0\n",
        "  for numero in lista:\n",
        "    aux+=numero\n",
        "  return print(aux)"
      ],
      "execution_count": null,
      "outputs": []
    },
    {
      "cell_type": "code",
      "metadata": {
        "id": "05ANj-TsfJPP",
        "colab": {
          "base_uri": "https://localhost:8080/"
        },
        "outputId": "c0d8d810-d1fc-4eff-faf9-b50ce45858e2"
      },
      "source": [
        "suma_numeros([1, 4, 5, 7, 8, 9])"
      ],
      "execution_count": null,
      "outputs": [
        {
          "output_type": "stream",
          "name": "stdout",
          "text": [
            "34\n"
          ]
        }
      ]
    },
    {
      "cell_type": "markdown",
      "metadata": {
        "id": "xOFXV3tnfJPR"
      },
      "source": [
        "- Escribi una función que tome dos palabras y diga si riman o no. Si coinciden las tres últimas letras debe devolver que riman. Si coinciden sólo las dos últimas tiene que decir que riman algo y si no, que no riman."
      ]
    },
    {
      "cell_type": "code",
      "metadata": {
        "id": "hPKmJVrAfJPR"
      },
      "source": [
        "def riman(palabra1, palabra2):\n",
        "  if palabra1[-3:] == palabra2[-3:]:\n",
        "    return \"riman\"\n",
        "  else:\n",
        "    return \"no riman\"\n",
        "\n",
        "\n"
      ],
      "execution_count": null,
      "outputs": []
    },
    {
      "cell_type": "code",
      "metadata": {
        "id": "8UZO4wYZfJPT",
        "colab": {
          "base_uri": "https://localhost:8080/",
          "height": 35
        },
        "outputId": "287271b9-ba54-4303-d447-8045c920066e"
      },
      "source": [
        "riman('hola', 'cacerola')"
      ],
      "execution_count": null,
      "outputs": [
        {
          "output_type": "execute_result",
          "data": {
            "text/plain": [
              "'riman'"
            ],
            "application/vnd.google.colaboratory.intrinsic+json": {
              "type": "string"
            }
          },
          "metadata": {},
          "execution_count": 24
        }
      ]
    },
    {
      "cell_type": "code",
      "metadata": {
        "id": "FwYgQ00nfJPU",
        "colab": {
          "base_uri": "https://localhost:8080/",
          "height": 35
        },
        "outputId": "4648f51b-6c9e-4e08-cdab-6c302d14b97c"
      },
      "source": [
        "riman('jirafa', 'roja')"
      ],
      "execution_count": null,
      "outputs": [
        {
          "output_type": "execute_result",
          "data": {
            "text/plain": [
              "'no riman'"
            ],
            "application/vnd.google.colaboratory.intrinsic+json": {
              "type": "string"
            }
          },
          "metadata": {},
          "execution_count": 25
        }
      ]
    },
    {
      "cell_type": "code",
      "metadata": {
        "id": "rtz4a7zefJPX",
        "colab": {
          "base_uri": "https://localhost:8080/",
          "height": 35
        },
        "outputId": "c6f1109a-a1e4-4a6f-8051-c84982c54cc5"
      },
      "source": [
        "riman('computadora', 'cabecera')"
      ],
      "execution_count": null,
      "outputs": [
        {
          "output_type": "execute_result",
          "data": {
            "text/plain": [
              "'no riman'"
            ],
            "application/vnd.google.colaboratory.intrinsic+json": {
              "type": "string"
            }
          },
          "metadata": {},
          "execution_count": 26
        }
      ]
    },
    {
      "cell_type": "markdown",
      "metadata": {
        "id": "0yxZUZHmfJPZ"
      },
      "source": [
        "- Escribi una función para convertir temperatura de grados celsius a fahrenheit (Formula : F = C * 9/5 + 32)"
      ]
    },
    {
      "cell_type": "code",
      "source": [
        "def convert_grados(celsius):\n",
        "    return (celsius * 9/5) + 32"
      ],
      "metadata": {
        "id": "xZYDmrvEDMjw"
      },
      "execution_count": null,
      "outputs": []
    },
    {
      "cell_type": "code",
      "metadata": {
        "id": "velR3kdDfJPa",
        "colab": {
          "base_uri": "https://localhost:8080/"
        },
        "outputId": "aefb47bb-1278-40b3-f829-9f705fde4aad"
      },
      "source": [
        "convert_grados(9)"
      ],
      "execution_count": null,
      "outputs": [
        {
          "output_type": "execute_result",
          "data": {
            "text/plain": [
              "48.2"
            ]
          },
          "metadata": {},
          "execution_count": 29
        }
      ]
    },
    {
      "cell_type": "markdown",
      "metadata": {
        "id": "OXCTEla-fJPb"
      },
      "source": [
        "- Escribi una función que devuelva la serie de Fibonacci entre 0 y 50."
      ]
    },
    {
      "cell_type": "code",
      "source": [
        "def fibonacci(n):\n",
        "    if n <= 1:\n",
        "        return n\n",
        "    else:\n",
        "        return fibonacci(n-1) + fibonacci(n-2)\n"
      ],
      "metadata": {
        "id": "J2l2PX2zCNxk"
      },
      "execution_count": null,
      "outputs": []
    },
    {
      "cell_type": "code",
      "metadata": {
        "id": "lJTvAwsFfJPb"
      },
      "source": [
        "def fibo(n):\n",
        "  if n >1 and n<50:\n",
        "    return fibo(n-1) + fibo(n-2)\n",
        "  if n<=1:\n",
        "    return n\n",
        "  else:\n",
        "    return \"fuera de rango\""
      ],
      "execution_count": null,
      "outputs": []
    },
    {
      "cell_type": "code",
      "source": [
        "fibo(120)"
      ],
      "metadata": {
        "colab": {
          "base_uri": "https://localhost:8080/",
          "height": 35
        },
        "id": "EiAiLKax473o",
        "outputId": "449c3da9-d9e7-4f3c-c882-1a47ced172c2"
      },
      "execution_count": null,
      "outputs": [
        {
          "output_type": "execute_result",
          "data": {
            "text/plain": [
              "'fuera de rango'"
            ],
            "application/vnd.google.colaboratory.intrinsic+json": {
              "type": "string"
            }
          },
          "metadata": {},
          "execution_count": 36
        }
      ]
    },
    {
      "cell_type": "markdown",
      "metadata": {
        "id": "oLq0uXoIfJPe"
      },
      "source": [
        "**Para seguir practicando chequea este sitio web con [ejercicios](https://projecteuler.net/archives).**"
      ]
    },
    {
      "cell_type": "code",
      "metadata": {
        "id": "R8X2RFUefJPd"
      },
      "source": [
        "fibonacci(55)"
      ],
      "execution_count": null,
      "outputs": []
    },
    {
      "cell_type": "markdown",
      "source": [
        "#Ejercicio\n",
        "\n",
        "- Los factores primos de 13195  son 5,7,9 y 29. ¿Cuál es el factor primo más grande del número? 600851475143"
      ],
      "metadata": {
        "id": "V0D35rG3U6aG"
      }
    },
    {
      "cell_type": "code",
      "source": [
        "def FP_max(a):\n",
        "    divisor = 2 #Arrancamos con el primo mas chico\n",
        "\n",
        "    while divisor * divisor <= a:\n",
        "        if a % divisor == 0:\n",
        "            a //= divisor  # Dividimos y seguimos con el mismo divisor\n",
        "        else:\n",
        "            divisor += 1  # Probamos con el siguiente número\n",
        "    return a # Cuando termina, a es el factor primo más grande\n",
        "\n",
        "numero = 600851475143\n",
        "resultado = FP_max(numero)\n",
        "print(f\"El factor primo más grande de {numero} es {resultado}\")\n"
      ],
      "metadata": {
        "id": "4i46viYMFvbO"
      },
      "execution_count": null,
      "outputs": []
    }
  ]
}