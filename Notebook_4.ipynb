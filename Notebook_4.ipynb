{
  "nbformat": 4,
  "nbformat_minor": 0,
  "metadata": {
    "kernelspec": {
      "display_name": "Python 3",
      "language": "python",
      "name": "python3"
    },
    "language_info": {
      "codemirror_mode": {
        "name": "ipython",
        "version": 3
      },
      "file_extension": ".py",
      "mimetype": "text/x-python",
      "name": "python",
      "nbconvert_exporter": "python",
      "pygments_lexer": "ipython3",
      "version": "3.7.3"
    },
    "colab": {
      "provenance": [],
      "include_colab_link": true
    }
  },
  "cells": [
    {
      "cell_type": "markdown",
      "metadata": {
        "id": "view-in-github",
        "colab_type": "text"
      },
      "source": [
        "<a href=\"https://colab.research.google.com/github/Guadalescano/Curso-Data-Science/blob/main/Notebook_4.ipynb\" target=\"_parent\"><img src=\"https://colab.research.google.com/assets/colab-badge.svg\" alt=\"Open In Colab\"/></a>"
      ]
    },
    {
      "cell_type": "markdown",
      "metadata": {
        "id": "Gp2WddtV9IwG"
      },
      "source": [
        "# Programa Ingenias+ Data Science"
      ]
    },
    {
      "cell_type": "markdown",
      "metadata": {
        "id": "H4M1yVbf9IwH"
      },
      "source": [
        "Como dijimos en clases anteriores, Python tiene implementadas muchas librerias para poder trabajar con datos. En la clase de hoy trabajaremos con una de ellas: `Numpy`."
      ]
    },
    {
      "cell_type": "markdown",
      "source": [],
      "metadata": {
        "id": "cSLGQVwY6VSQ"
      }
    },
    {
      "cell_type": "code",
      "source": [],
      "metadata": {
        "id": "IW7YRkfDfeKH"
      },
      "execution_count": 1,
      "outputs": []
    },
    {
      "cell_type": "markdown",
      "metadata": {
        "id": "GdTT8WeL9IwI"
      },
      "source": [
        "Antes de comenzar, vamos a hablar un poco de esta libreria.\n",
        "\n",
        "**Numpy** es una librería optimizada para realizar cálculos numéricos con vectores y matrices. A diferencia de otros lenguajes de programación, Python no posee en su estructura central la figura de matrices. Eso quiere decir que para poder trabajar con esta estructura de datos deberiamos trabajar con listas de listas. NumPy introduce el concepto de arrays o matrices."
      ]
    },
    {
      "cell_type": "markdown",
      "metadata": {
        "id": "qWkq3EHK9IwK"
      },
      "source": [
        "Al ser de código abierto, `numpy` posee una documentación muy amplia que es **SIEMPRE RECOMENDABLE** consultar."
      ]
    },
    {
      "cell_type": "markdown",
      "metadata": {
        "id": "nxe3KLUO9IwL"
      },
      "source": [
        "- [Documentacion NumPy](https://devdocs.io/numpy/)"
      ]
    },
    {
      "cell_type": "markdown",
      "metadata": {
        "id": "l1Ay3nSs9IwN"
      },
      "source": [
        "## Clase 4: Introduccion a NumPy"
      ]
    },
    {
      "cell_type": "markdown",
      "metadata": {
        "id": "1SOPXukc9IwO"
      },
      "source": [
        "NumPy no pertenece al _core_ de Python y es por eso que debemos importarlo para poder usarlo."
      ]
    },
    {
      "cell_type": "markdown",
      "metadata": {
        "id": "D9O1UmgD9IwP"
      },
      "source": [
        "Para importar una libreria en Python se usa la siguiente sintaxis:\n",
        "    \n",
        "`import libreria as alias`\n",
        "\n",
        "Para importar una funcion en particular de un modulo o libreria, utilizamos la sintaxis:\n",
        "    \n",
        "`from libreria import funcion`"
      ]
    },
    {
      "cell_type": "markdown",
      "metadata": {
        "id": "i9dlKZ1v9IwP"
      },
      "source": [
        "Como convencion, cuando se importa `numpy` se le asigna el alias `np`. Pero esto no es obligatorio, solo me facilita muchas veces la escritura del codigo."
      ]
    },
    {
      "cell_type": "code",
      "metadata": {
        "id": "bILSO0jr9IwQ"
      },
      "source": [
        "#Importar numpy\n",
        "import numpy as np"
      ],
      "execution_count": 8,
      "outputs": []
    },
    {
      "cell_type": "markdown",
      "metadata": {
        "id": "ksBsqePu9IwU"
      },
      "source": [
        "De ahora en mas para utilizar una función de Numpy solo tengo que usar `np` y luego llamar función. Por ejemplo, si quiero llamar la función `.mean()`, debo escribir: `np.mean()`."
      ]
    },
    {
      "cell_type": "markdown",
      "metadata": {
        "id": "VepZgbG69IwV"
      },
      "source": [
        "Comenzemos a ver que funciones se pueden utilizar en NumPy."
      ]
    },
    {
      "cell_type": "markdown",
      "metadata": {
        "id": "bA7MFSiS9IwV"
      },
      "source": [
        "- `.array()`"
      ]
    },
    {
      "cell_type": "markdown",
      "metadata": {
        "id": "FnPfh-Qa9IwW"
      },
      "source": [
        "Esta función me permite crear un array. Es posible crear arrays a partir de listas."
      ]
    },
    {
      "cell_type": "code",
      "metadata": {
        "id": "gr5IX5Zn9IwX"
      },
      "source": [
        "#creo un array\n",
        "arreglo = np.array([10, 11, 12, 13, 14, 15, 16, 17, 18, 19])"
      ],
      "execution_count": 11,
      "outputs": []
    },
    {
      "cell_type": "code",
      "source": [
        "creo = np.array([1, 2, 3, 4, 5, 6, 7, 8, 9, 10])"
      ],
      "metadata": {
        "id": "eCWQ1ddGnhVu"
      },
      "execution_count": 12,
      "outputs": []
    },
    {
      "cell_type": "code",
      "source": [
        "la_lista = [10, 11, 12, 11, 14, 15, 16, 17, 18, 19]\n",
        "tu_array= np.array(la_lista)\n",
        "print(tu_array)\n",
        "type(tu_array)\n"
      ],
      "metadata": {
        "colab": {
          "base_uri": "https://localhost:8080/"
        },
        "id": "JdR4GDxUn-fH",
        "outputId": "59fca900-215a-4b06-e680-a8404be9aa12"
      },
      "execution_count": 15,
      "outputs": [
        {
          "output_type": "stream",
          "name": "stdout",
          "text": [
            "[10 11 12 11 14 15 16 17 18 19]\n"
          ]
        },
        {
          "output_type": "execute_result",
          "data": {
            "text/plain": [
              "numpy.ndarray"
            ]
          },
          "metadata": {},
          "execution_count": 15
        }
      ]
    },
    {
      "cell_type": "code",
      "metadata": {
        "id": "CJGrumM49Iwa",
        "outputId": "7124365a-b762-44e1-f0b7-82e88b381321",
        "colab": {
          "base_uri": "https://localhost:8080/"
        }
      },
      "source": [
        "#crea una lista llamada mi_lista que contenga 10 numeros\n",
        "\n",
        "mi_lista = [45,123,89,3,45,2,99,56,34,10]\n",
        "\n",
        "#Ahora transforma tu lista en un array usando np.array y asignalo a la variable mi_array\n",
        "\n",
        "mi_array = np.array(mi_lista)\n",
        "\n",
        "#Imprimi mi_array\n",
        "print(mi_array)"
      ],
      "execution_count": 18,
      "outputs": [
        {
          "output_type": "stream",
          "name": "stdout",
          "text": [
            "[ 45 123  89   3  45   2  99  56  34  10]\n"
          ]
        }
      ]
    },
    {
      "cell_type": "markdown",
      "metadata": {
        "id": "pkmckzMD9Iwc"
      },
      "source": [
        "Podemos usar `type` para obtener el tipo de estructura de datos que estamos trabajando."
      ]
    },
    {
      "cell_type": "code",
      "metadata": {
        "id": "W60TBE9t9Iwd",
        "outputId": "5ff61153-a6b7-4878-bc11-c2c893147afa",
        "colab": {
          "base_uri": "https://localhost:8080/"
        }
      },
      "source": [
        "#Aplica type sobre mi_array para mostrar que tipo de estructura de datos es\n",
        "type(mi_array)\n"
      ],
      "execution_count": 19,
      "outputs": [
        {
          "output_type": "execute_result",
          "data": {
            "text/plain": [
              "numpy.ndarray"
            ]
          },
          "metadata": {},
          "execution_count": 19
        }
      ]
    },
    {
      "cell_type": "markdown",
      "metadata": {
        "id": "EbksvAhu9Iwg"
      },
      "source": [
        "Los arrays y las listas se comportan diferente frente operaciones matematicas con números."
      ]
    },
    {
      "cell_type": "code",
      "source": [
        "dos = [2]\n",
        "print(la_lista + dos)\n",
        "# print(la_lista + 2) No se puede sumar un numero asi a una lista\n",
        "# Esto funciona porque dos es una lista"
      ],
      "metadata": {
        "colab": {
          "base_uri": "https://localhost:8080/"
        },
        "id": "t-4FoQ9aovrh",
        "outputId": "554df378-b142-4035-f5b1-5f0496ff267f"
      },
      "execution_count": 20,
      "outputs": [
        {
          "output_type": "stream",
          "name": "stdout",
          "text": [
            "[10, 11, 12, 11, 14, 15, 16, 17, 18, 19, 2]\n"
          ]
        }
      ]
    },
    {
      "cell_type": "code",
      "metadata": {
        "id": "ieN2Van39Iwh"
      },
      "source": [
        "#Corre el siguiente codigo\n",
        "#print(mi_lista + 2) # A MI LISTA NO PUEDO AGREGAR O CONTATENAR UN 2"
      ],
      "execution_count": 21,
      "outputs": []
    },
    {
      "cell_type": "markdown",
      "metadata": {
        "id": "nYV_cab39Iwl"
      },
      "source": [
        "\\No es posible sumar un numero a cada uno de los elementos de una lista. Sin embargo, esto funciona distinto en Numpy."
      ]
    },
    {
      "cell_type": "code",
      "source": [
        "la_lista2 = [i + 2 for i in la_lista]\n",
        "print(la_lista2)\n",
        "print(la_lista2 * 2)"
      ],
      "metadata": {
        "colab": {
          "base_uri": "https://localhost:8080/"
        },
        "id": "bQgA7WAppV_Z",
        "outputId": "d58fb841-8c50-4953-b2d9-91d08c141b89"
      },
      "execution_count": 22,
      "outputs": [
        {
          "output_type": "stream",
          "name": "stdout",
          "text": [
            "[12, 13, 14, 13, 16, 17, 18, 19, 20, 21]\n",
            "[12, 13, 14, 13, 16, 17, 18, 19, 20, 21, 12, 13, 14, 13, 16, 17, 18, 19, 20, 21]\n"
          ]
        }
      ]
    },
    {
      "cell_type": "code",
      "source": [
        "#realizamos la conversión con array\n",
        "import numpy as np\n",
        "\n",
        "la_lista = [10, 11, 12, 13, 14, 15, 16, 17, 18, 19]\n",
        "arr = np.array(la_lista)    # suponiendo la_lista como antes\n",
        "arr2 = arr + 2              # suma 2 a cada elemento\n",
        "print(arr2)                 # imprime: [12, 13, 14, 15, 16, 17, 18, 19, 20, 21]\n",
        "\n",
        "print(arr2 * 2)             # multiplica por dos a cada elemento"
      ],
      "metadata": {
        "colab": {
          "base_uri": "https://localhost:8080/"
        },
        "id": "E1gHXcDFc1eP",
        "outputId": "e9d4dabc-a82f-46d0-f822-8c783cd6161d"
      },
      "execution_count": 24,
      "outputs": [
        {
          "output_type": "stream",
          "name": "stdout",
          "text": [
            "[12 13 14 15 16 17 18 19 20 21]\n",
            "[24 26 28 30 32 34 36 38 40 42]\n"
          ]
        }
      ]
    },
    {
      "cell_type": "code",
      "metadata": {
        "id": "PleL40BL9Iwl",
        "outputId": "7052c78e-594b-4765-87eb-bd54195b65f2",
        "colab": {
          "base_uri": "https://localhost:8080/"
        }
      },
      "source": [
        "#Suma 2 a cada elemento de mi_array\n",
        "mi_lista = [45,123,89,3,45,2,99,56,34,10]\n",
        "mi_lista2 = [i + 2 for i in mi_lista]\n",
        "\n",
        "print(mi_lista2)"
      ],
      "execution_count": 27,
      "outputs": [
        {
          "output_type": "stream",
          "name": "stdout",
          "text": [
            "[47, 125, 91, 5, 47, 4, 101, 58, 36, 12]\n"
          ]
        }
      ]
    },
    {
      "cell_type": "markdown",
      "metadata": {
        "id": "B5fXUiPh9Iwo"
      },
      "source": [
        "El comportamiento tambien es distinto para la operacion de multiplicacion."
      ]
    },
    {
      "cell_type": "code",
      "metadata": {
        "id": "Xv_O7QVH9Iwo",
        "outputId": "dbe0b3ee-8182-41c2-d1c1-fad884d64bac",
        "colab": {
          "base_uri": "https://localhost:8080/"
        }
      },
      "source": [
        "#Corre el siguiente codigo y fijate que pasa\n",
        "print(mi_lista * 2)\n",
        "# duplica los elementos de la lista"
      ],
      "execution_count": 28,
      "outputs": [
        {
          "output_type": "stream",
          "name": "stdout",
          "text": [
            "[45, 123, 89, 3, 45, 2, 99, 56, 34, 10, 45, 123, 89, 3, 45, 2, 99, 56, 34, 10]\n"
          ]
        }
      ]
    },
    {
      "cell_type": "code",
      "source": [
        "la_lista3 = [i * 1 for i in la_lista]\n",
        "print(la_lista3)"
      ],
      "metadata": {
        "colab": {
          "base_uri": "https://localhost:8080/"
        },
        "id": "tyh5muxcqCtc",
        "outputId": "9c77f2e3-f5bb-45ba-ef9a-c7ab726d3796"
      },
      "execution_count": 29,
      "outputs": [
        {
          "output_type": "stream",
          "name": "stdout",
          "text": [
            "[10, 11, 12, 13, 14, 15, 16, 17, 18, 19]\n"
          ]
        }
      ]
    },
    {
      "cell_type": "code",
      "metadata": {
        "id": "B9rBbXW59Iwr",
        "outputId": "15f8e973-5bf4-455f-a369-a1b15b308617",
        "colab": {
          "base_uri": "https://localhost:8080/"
        }
      },
      "source": [
        "#Ahora multiplica por dos cada elemento de mi_array\n",
        "mi_lista3 = [1,2,3,4,5,6,7,8,9,10]\n",
        "arr = np.array(mi_lista3)\n",
        "arr2 = arr * 2\n",
        "print(mi_lista3)\n",
        "print(arr2)"
      ],
      "execution_count": 31,
      "outputs": [
        {
          "output_type": "stream",
          "name": "stdout",
          "text": [
            "[1, 2, 3, 4, 5, 6, 7, 8, 9, 10]\n",
            "[ 2  4  6  8 10 12 14 16 18 20]\n"
          ]
        }
      ]
    },
    {
      "cell_type": "markdown",
      "metadata": {
        "id": "EuWM5oic9Iwt"
      },
      "source": [
        "Los arrays y las listas se comportan diferente frente a operaciones con otros arrays/listas"
      ]
    },
    {
      "cell_type": "code",
      "metadata": {
        "id": "GQ505ALF9Iwt"
      },
      "source": [
        "#Corre el siguiente codigo\n",
        "lista1 = [1, 2, 3, 4, 5]\n",
        "lista2 = [5, 4, 3, 2, 1]\n",
        "\n",
        "arr1 = np.array(lista1)\n",
        "arr2 = np.array(lista2)"
      ],
      "execution_count": 33,
      "outputs": []
    },
    {
      "cell_type": "code",
      "source": [
        "liste1 = [1, 2, 3, 4, 5]\n",
        "liste2 = [5, 4, 3, 2, 1]\n",
        "liste1 + liste2"
      ],
      "metadata": {
        "colab": {
          "base_uri": "https://localhost:8080/"
        },
        "id": "K4i_aoPmqWh7",
        "outputId": "bfcb7103-07e4-4a1c-8575-2b72059e55a1"
      },
      "execution_count": 34,
      "outputs": [
        {
          "output_type": "execute_result",
          "data": {
            "text/plain": [
              "[1, 2, 3, 4, 5, 5, 4, 3, 2, 1]"
            ]
          },
          "metadata": {},
          "execution_count": 34
        }
      ]
    },
    {
      "cell_type": "code",
      "metadata": {
        "id": "CFhhBc0r9Iww",
        "outputId": "4f210e87-12ef-4d60-c8be-b2810dc5f333",
        "colab": {
          "base_uri": "https://localhost:8080/"
        }
      },
      "source": [
        "#Concatena las dos listas\n",
        "lista1 + lista2"
      ],
      "execution_count": 35,
      "outputs": [
        {
          "output_type": "execute_result",
          "data": {
            "text/plain": [
              "[1, 2, 3, 4, 5, 5, 4, 3, 2, 1]"
            ]
          },
          "metadata": {},
          "execution_count": 35
        }
      ]
    },
    {
      "cell_type": "code",
      "source": [
        "liste1 = [1, 2, 3, 4, 5]\n",
        "liste2 = [5, 4, 3, 2, 1]\n",
        "liste3 = [i + j for i in liste1 for j in liste2]\n",
        "liste3.append(liste1[0]+liste2[0])\n",
        "# esto suma el primer elemento de cada lista por ejemplo el 1 con cada uno de los numeros de la lista 2 y luego el 2 con cada uno de la lista 2\n",
        "print(liste3)"
      ],
      "metadata": {
        "colab": {
          "base_uri": "https://localhost:8080/"
        },
        "id": "IL_dh1R0qs9I",
        "outputId": "1d2e0be5-2f39-41a2-ee7f-000bb1716801"
      },
      "execution_count": 37,
      "outputs": [
        {
          "output_type": "stream",
          "name": "stdout",
          "text": [
            "[6, 5, 4, 3, 2, 7, 6, 5, 4, 3, 8, 7, 6, 5, 4, 9, 8, 7, 6, 5, 10, 9, 8, 7, 6, 6]\n"
          ]
        }
      ]
    },
    {
      "cell_type": "code",
      "metadata": {
        "id": "xCz2gztf9Iwy",
        "outputId": "9b2875ad-db51-4064-cfc4-fed3164dbf98",
        "colab": {
          "base_uri": "https://localhost:8080/"
        }
      },
      "source": [
        "#Suma los elementos de los dos arrays\n",
        "\n",
        "lista3 = []\n",
        "for i in lista1:\n",
        "  for j in lista2:\n",
        "    lista3.append(i + j)\n",
        "print(lista3)\n",
        "print(lista1+lista2)\n",
        "\n",
        "lista4 = [1,2,3,4]\n",
        "lista5 = [9,2,3,4]\n",
        "array1 = np.array(lista4)\n",
        "array2 = np.array(lista5)\n",
        "\n",
        "print(array1 + array2)"
      ],
      "execution_count": 38,
      "outputs": [
        {
          "output_type": "stream",
          "name": "stdout",
          "text": [
            "[6, 5, 4, 3, 2, 7, 6, 5, 4, 3, 8, 7, 6, 5, 4, 9, 8, 7, 6, 5, 10, 9, 8, 7, 6]\n",
            "[1, 2, 3, 4, 5, 5, 4, 3, 2, 1]\n",
            "[10  4  6  8]\n"
          ]
        }
      ]
    },
    {
      "cell_type": "code",
      "metadata": {
        "id": "RtdR2N8W9Iw0",
        "colab": {
          "base_uri": "https://localhost:8080/"
        },
        "outputId": "ae7f17d4-29a5-4bc7-cf8a-6d11ada25229"
      },
      "source": [
        "#Multiplica los elementos de cada arreglo\n",
        "lista=[]\n",
        "for i in array1:\n",
        " for j in array2:\n",
        "  arreglo_f = array1 * array2\n",
        "print(arreglo_f)"
      ],
      "execution_count": 39,
      "outputs": [
        {
          "output_type": "stream",
          "name": "stdout",
          "text": [
            "[ 9  4  9 16]\n"
          ]
        }
      ]
    },
    {
      "cell_type": "code",
      "metadata": {
        "id": "NSIEt1ni9Iw2",
        "colab": {
          "base_uri": "https://localhost:8080/"
        },
        "outputId": "93710b37-0667-4a04-8dfa-bcd88d61034f"
      },
      "source": [
        "#lista=[]\n",
        "for i in array1:\n",
        " for j in array2:\n",
        "  arreglo_f = array1 - array2\n",
        "print(arreglo_f)"
      ],
      "execution_count": 40,
      "outputs": [
        {
          "output_type": "stream",
          "name": "stdout",
          "text": [
            "[-8  0  0  0]\n"
          ]
        }
      ]
    },
    {
      "cell_type": "code",
      "metadata": {
        "id": "rfU5a4JT9Iw5",
        "colab": {
          "base_uri": "https://localhost:8080/"
        },
        "outputId": "c5c5aad7-3f1b-4a1c-ba26-0beb15c5d681"
      },
      "source": [
        "#Dividi los dos arrays\n",
        "lista=[]\n",
        "for i in array1:\n",
        " for j in array2:\n",
        "  arreglo_f = array1 // array2\n",
        "print(arreglo_f)"
      ],
      "execution_count": 41,
      "outputs": [
        {
          "output_type": "stream",
          "name": "stdout",
          "text": [
            "[0 1 1 1]\n"
          ]
        }
      ]
    },
    {
      "cell_type": "code",
      "metadata": {
        "id": "vsK1bh2t9Iw_",
        "colab": {
          "base_uri": "https://localhost:8080/"
        },
        "outputId": "ffd0e7cd-2408-4551-ea34-ed9e711beb4c"
      },
      "source": [
        "#Eleva el array1 al array2\n",
        "lista=[]\n",
        "for i in array1:\n",
        " for j in array2:\n",
        "  arreglo_f = array1 ** array2\n",
        "print(arreglo_f)"
      ],
      "execution_count": 42,
      "outputs": [
        {
          "output_type": "stream",
          "name": "stdout",
          "text": [
            "[  1   4  27 256]\n"
          ]
        }
      ]
    },
    {
      "cell_type": "markdown",
      "metadata": {
        "id": "xHrtSrCs9IxC"
      },
      "source": [
        "Para acceder a los elementos de los arrays de una dimension se utilizan los indices como las listas."
      ]
    },
    {
      "cell_type": "code",
      "source": [
        "lista1= [1,2,3,4]"
      ],
      "metadata": {
        "id": "IdLBX_D8B8rr"
      },
      "execution_count": 43,
      "outputs": []
    },
    {
      "cell_type": "code",
      "source": [
        "arr1=[9,8,7,6]"
      ],
      "metadata": {
        "id": "UaMZj3c7CUNU"
      },
      "execution_count": 44,
      "outputs": []
    },
    {
      "cell_type": "code",
      "metadata": {
        "id": "_AlcV5K09IxC",
        "outputId": "de723df0-1f6e-4d84-ddf0-34df1813beb0",
        "colab": {
          "base_uri": "https://localhost:8080/"
        }
      },
      "source": [
        "#Corre el siguiente codigo\n",
        "print(lista1[0], arr1[0])"
      ],
      "execution_count": 45,
      "outputs": [
        {
          "output_type": "stream",
          "name": "stdout",
          "text": [
            "1 9\n"
          ]
        }
      ]
    },
    {
      "cell_type": "code",
      "metadata": {
        "id": "rKRYd4OK9IxG",
        "outputId": "961f4797-1b3f-43ab-ddfc-98d6702060be",
        "colab": {
          "base_uri": "https://localhost:8080/"
        }
      },
      "source": [
        "#Obtene el 3er elemento de arr1\n",
        "print(lista1[2], arr1[2])"
      ],
      "execution_count": 46,
      "outputs": [
        {
          "output_type": "stream",
          "name": "stdout",
          "text": [
            "3 7\n"
          ]
        }
      ]
    },
    {
      "cell_type": "code",
      "source": [
        "arr2=[9,99,88,7,65]"
      ],
      "metadata": {
        "id": "qBRIuNDqCnHw"
      },
      "execution_count": 47,
      "outputs": []
    },
    {
      "cell_type": "code",
      "metadata": {
        "id": "HihzUNA09IxI",
        "outputId": "7e29f6c2-9b28-4882-cb2a-2a3536339076",
        "colab": {
          "base_uri": "https://localhost:8080/"
        }
      },
      "source": [
        "#Obtene el 5to elemento de arr2\n",
        "print (arr2[4])"
      ],
      "execution_count": 48,
      "outputs": [
        {
          "output_type": "stream",
          "name": "stdout",
          "text": [
            "65\n"
          ]
        }
      ]
    },
    {
      "cell_type": "code",
      "metadata": {
        "id": "4uvf6wfu9IxL",
        "colab": {
          "base_uri": "https://localhost:8080/"
        },
        "outputId": "6452d3c7-65ee-4e27-a024-f2a088884fda"
      },
      "source": [
        "#Obtene el ultimo elemento de arr1\n",
        "print(arr1[-1])"
      ],
      "execution_count": 49,
      "outputs": [
        {
          "output_type": "stream",
          "name": "stdout",
          "text": [
            "6\n"
          ]
        }
      ]
    },
    {
      "cell_type": "markdown",
      "metadata": {
        "id": "Mavn6y_Q9IxN"
      },
      "source": [
        "Asi tambien obtenemos una porción del array de la misma manera que obtenemos una parte de una lista. A su vez podemos reasignar nuevos valores a una porción del array."
      ]
    },
    {
      "cell_type": "code",
      "metadata": {
        "id": "FBjVCpWo9IxN",
        "colab": {
          "base_uri": "https://localhost:8080/"
        },
        "outputId": "3359c7bf-8aa9-4017-d9fa-19519333e35c"
      },
      "source": [
        "#Corre el siguiente codigo\n",
        "# Array1 tiene 4 elementos [0:3]\n",
        "lista1 = [1,2,3,4]\n",
        "lista2 = [9,2,3,4]\n",
        "array1 = np.array(lista1)\n",
        "array2 = np.array(lista2)\n",
        "\n",
        "array1[1:4] = [23, 24, 21]    # Acordarse que tomamos hasta N-1 entonces si queremos 3 numeros debemos poner 1:4 en este caso\n",
        "\n",
        "print(array1)"
      ],
      "execution_count": 51,
      "outputs": [
        {
          "output_type": "stream",
          "name": "stdout",
          "text": [
            "[ 1 23 24 21]\n"
          ]
        }
      ]
    },
    {
      "cell_type": "code",
      "metadata": {
        "id": "9F9vBgU69IxP",
        "outputId": "f3207b8f-bbcb-45d7-caf2-e3aed53c72dd",
        "colab": {
          "base_uri": "https://localhost:8080/"
        }
      },
      "source": [
        "#Imprimi el arr1\n",
        "print(array1)"
      ],
      "execution_count": 52,
      "outputs": [
        {
          "output_type": "stream",
          "name": "stdout",
          "text": [
            "[ 1 23 24 21]\n"
          ]
        }
      ]
    },
    {
      "cell_type": "markdown",
      "metadata": {
        "id": "89rDeEhV9IxR"
      },
      "source": [
        "## Arreglos multidimensionales"
      ]
    },
    {
      "cell_type": "markdown",
      "metadata": {
        "id": "CRUXEDm49IxR"
      },
      "source": [
        "Las listas son cadenas unidimensionales de elementos. Los arreglos pueden ser multidimensionales. Para comprender mejor que son, miremos el siguiente ejemplo:"
      ]
    },
    {
      "cell_type": "code",
      "metadata": {
        "id": "kuzYsFb99IxS",
        "outputId": "9f4efcb0-52ec-4774-8584-3f6b7ac24483",
        "colab": {
          "base_uri": "https://localhost:8080/"
        }
      },
      "source": [
        "#Corre el siguiente codigo\n",
        "lista = [[0, 1, 3]]\n",
        "arr2d = np.array(lista)\n",
        "print(arr2d)"
      ],
      "execution_count": 64,
      "outputs": [
        {
          "output_type": "stream",
          "name": "stdout",
          "text": [
            "[[0 1 3]]\n"
          ]
        }
      ]
    },
    {
      "cell_type": "code",
      "metadata": {
        "id": "oNqrJJbi9IxU",
        "outputId": "ceae20c9-58b0-4337-b441-96acd05690d2",
        "colab": {
          "base_uri": "https://localhost:8080/"
        }
      },
      "source": [
        "#Veamos cuantas dimensiones tiene el array\n",
        "print(arr2d.ndim) # Dos filas"
      ],
      "execution_count": 65,
      "outputs": [
        {
          "output_type": "stream",
          "name": "stdout",
          "text": [
            "2\n"
          ]
        }
      ]
    },
    {
      "cell_type": "code",
      "metadata": {
        "id": "Vj0qCMcu9IxW",
        "outputId": "65a94b2d-1263-49f6-bd64-84de3f3678a0",
        "colab": {
          "base_uri": "https://localhost:8080/"
        }
      },
      "source": [
        "#Veamos cuantos elementos tiene el array\n",
        "print(arr2d.size) # 6 elementos"
      ],
      "execution_count": 63,
      "outputs": [
        {
          "output_type": "stream",
          "name": "stdout",
          "text": [
            "3\n"
          ]
        }
      ]
    },
    {
      "cell_type": "code",
      "metadata": {
        "id": "VFKyjgth9IxY",
        "outputId": "875ce221-30d7-4fa4-ecc8-551cdc97134d",
        "colab": {
          "base_uri": "https://localhost:8080/"
        }
      },
      "source": [
        "#Arma ahora un array de 3 dimensiones.\n",
        "coso = [[[2,4,6],[1,3,5],[8,10,12]]]\n",
        "arr3d = np.array(coso)\n",
        "print(arr3d)"
      ],
      "execution_count": 67,
      "outputs": [
        {
          "output_type": "stream",
          "name": "stdout",
          "text": [
            "[[[ 2  4  6]\n",
            "  [ 1  3  5]\n",
            "  [ 8 10 12]]]\n"
          ]
        }
      ]
    },
    {
      "cell_type": "code",
      "metadata": {
        "id": "wfHd2SMX9Ixa",
        "outputId": "69d5adbf-6579-4dfc-9afd-fa0a37c79586",
        "colab": {
          "base_uri": "https://localhost:8080/"
        }
      },
      "source": [
        "#Chequea usando ndim que efectivamente tenga tres dimensiones\n",
        "print(arr3d.ndim)"
      ],
      "execution_count": 68,
      "outputs": [
        {
          "output_type": "stream",
          "name": "stdout",
          "text": [
            "3\n"
          ]
        }
      ]
    },
    {
      "cell_type": "markdown",
      "metadata": {
        "id": "fmEhCwq49Ixb"
      },
      "source": [
        "**¿Como accedemos entonces a un array de mas de una dimension?**"
      ]
    },
    {
      "cell_type": "code",
      "metadata": {
        "id": "-9c0rOTg9Ixc",
        "colab": {
          "base_uri": "https://localhost:8080/"
        },
        "outputId": "1463361b-4f89-43ea-ca77-f57cea9da2dc"
      },
      "source": [
        "# Definamos un nuevo array\n",
        "\n",
        "lista2 = [[0, 1, 3], [3, 4, 5], [9, 10, 4], [2, 5, 6]]\n",
        "nuevo_array = np.array(lista2)\n",
        "\n",
        "# Mostrar el nuevo array\n",
        "print(nuevo_array.ndim)\n",
        "\n",
        "print(nuevo_array)"
      ],
      "execution_count": 70,
      "outputs": [
        {
          "output_type": "stream",
          "name": "stdout",
          "text": [
            "2\n",
            "[[ 0  1  3]\n",
            " [ 3  4  5]\n",
            " [ 9 10  4]\n",
            " [ 2  5  6]]\n"
          ]
        }
      ]
    },
    {
      "cell_type": "markdown",
      "metadata": {
        "id": "BRDLHnGA9Ixj"
      },
      "source": [
        "Si para un array de 1 dimension, usabamos un indice, para un array de n dimensiones tenemos que usar n indices. En el caso de 2 dimensiones, usaremos 2 indices. El primero indica la fila y el segundo la columna."
      ]
    },
    {
      "cell_type": "code",
      "metadata": {
        "id": "gR50Ev219Ixk",
        "outputId": "21cf185f-e360-4021-82ad-2723500a4a71",
        "colab": {
          "base_uri": "https://localhost:8080/"
        }
      },
      "source": [
        "#Corre el siguiente codigo\n",
        "print(nuevo_array[0,1])"
      ],
      "execution_count": 71,
      "outputs": [
        {
          "output_type": "stream",
          "name": "stdout",
          "text": [
            "1\n"
          ]
        }
      ]
    },
    {
      "cell_type": "code",
      "metadata": {
        "id": "Vlrqe2DZ9Ixo",
        "outputId": "706d5a89-620e-4b02-d82b-60ca7b03156f",
        "colab": {
          "base_uri": "https://localhost:8080/"
        }
      },
      "source": [
        "#Accede al tercer elemento de la segunda fila de nuevo_array\n",
        "print(nuevo_array[1,2])"
      ],
      "execution_count": 73,
      "outputs": [
        {
          "output_type": "stream",
          "name": "stdout",
          "text": [
            "5\n"
          ]
        }
      ]
    },
    {
      "cell_type": "code",
      "metadata": {
        "id": "A9jsjXoK9Ixs",
        "outputId": "a115cb76-c087-459b-85e8-3fd3dd10681f",
        "colab": {
          "base_uri": "https://localhost:8080/"
        }
      },
      "source": [
        "#Accede al cuarto elemento de la segunda columna de nuevo_array\n",
        "print(nuevo_array[3,2])"
      ],
      "execution_count": 74,
      "outputs": [
        {
          "output_type": "stream",
          "name": "stdout",
          "text": [
            "6\n"
          ]
        }
      ]
    },
    {
      "cell_type": "code",
      "metadata": {
        "id": "sGc4P3E19Ixt",
        "outputId": "2225d539-414f-4aaa-a820-068b94bb66d5",
        "colab": {
          "base_uri": "https://localhost:8080/"
        }
      },
      "source": [
        "#Accedo a toda la segunda columna\n",
        "nuevo_array[:,1]"
      ],
      "execution_count": 75,
      "outputs": [
        {
          "output_type": "execute_result",
          "data": {
            "text/plain": [
              "array([ 1,  4, 10,  5])"
            ]
          },
          "metadata": {},
          "execution_count": 75
        }
      ]
    },
    {
      "cell_type": "code",
      "metadata": {
        "id": "1pxpVLmO9Ixw",
        "outputId": "f90351fe-e5d4-4a4e-8ea3-0197f6f57b6c",
        "colab": {
          "base_uri": "https://localhost:8080/"
        }
      },
      "source": [
        "# Accede a un subarray que vaya desde el segundo elemento de la primer columna hasta el cuarto elemento de la tercer\n",
        "# columna de nuevo_array}\n",
        "filas = len(nuevo_array)            # cantidad de filas\n",
        "columnas = len(nuevo_array[0])      # Cantidad de columnas\n",
        "for i in range(1,4):\n",
        "    for j in range(columnas):\n",
        "        if not (i == 3 and j == 2):  # evitamos esa posición\n",
        "            print(nuevo_array[i, j])"
      ],
      "execution_count": 87,
      "outputs": [
        {
          "output_type": "stream",
          "name": "stdout",
          "text": [
            "3\n",
            "4\n",
            "5\n",
            "9\n",
            "10\n",
            "4\n",
            "2\n",
            "5\n"
          ]
        }
      ]
    },
    {
      "cell_type": "code",
      "metadata": {
        "id": "p9fDidG99Ixy",
        "colab": {
          "base_uri": "https://localhost:8080/"
        },
        "outputId": "34f08d79-4100-43f3-bb54-2819c2449fc8"
      },
      "source": [
        "# Accede a un subarray que vaya desde el primer elemento de la segunda fila hasta el segundo elemento de la cuarta\n",
        "#fila de nuevo_array\n",
        "\n",
        "print(nuevo_array[1:5 , 0:2])"
      ],
      "execution_count": 88,
      "outputs": [
        {
          "output_type": "stream",
          "name": "stdout",
          "text": [
            "[[ 3  4]\n",
            " [ 9 10]\n",
            " [ 2  5]]\n"
          ]
        }
      ]
    },
    {
      "cell_type": "markdown",
      "metadata": {
        "id": "YpXEjKk09Ix0"
      },
      "source": [
        "## Creación de arreglos"
      ]
    },
    {
      "cell_type": "markdown",
      "metadata": {
        "id": "tD-27Se19Ix1"
      },
      "source": [
        "- **np.zeros(shape, dtype, order)**: Crea un array con todos ceros en sus posiciones"
      ]
    },
    {
      "cell_type": "code",
      "metadata": {
        "id": "Kcdzl_U-9Ix2",
        "colab": {
          "base_uri": "https://localhost:8080/"
        },
        "outputId": "1dd7d6fe-3cc3-4c7d-afb1-b83ec93fcec6"
      },
      "source": [
        "#Corre el siguiente codigo\n",
        "print(np.zeros((2, 2, 2)))"
      ],
      "execution_count": 89,
      "outputs": [
        {
          "output_type": "stream",
          "name": "stdout",
          "text": [
            "[[[0. 0.]\n",
            "  [0. 0.]]\n",
            "\n",
            " [[0. 0.]\n",
            "  [0. 0.]]]\n"
          ]
        }
      ]
    },
    {
      "cell_type": "markdown",
      "metadata": {
        "id": "Pbfo4SMN9Ix4"
      },
      "source": [
        "- **np.ones(shape, dtype, order)**: Crea un array con todos unos en sus posiciones"
      ]
    },
    {
      "cell_type": "code",
      "metadata": {
        "id": "XHnqDg3F9Ix5",
        "colab": {
          "base_uri": "https://localhost:8080/"
        },
        "outputId": "95139a75-5d5d-4ad5-acfb-ddaf908ffcac"
      },
      "source": [
        "#Corre el siguiente codigo\n",
        "print(np.ones(10))"
      ],
      "execution_count": 90,
      "outputs": [
        {
          "output_type": "stream",
          "name": "stdout",
          "text": [
            "[1. 1. 1. 1. 1. 1. 1. 1. 1. 1.]\n"
          ]
        }
      ]
    },
    {
      "cell_type": "markdown",
      "metadata": {
        "id": "CYwoyqUz9Ix7"
      },
      "source": [
        "- **np.random.rand(d0, d1, ..., dn)**: Genera un array con valores al azar con una distribución `[0, 1)` y segun las dimensiones pasada como argumento."
      ]
    },
    {
      "cell_type": "code",
      "metadata": {
        "id": "WZL0bOTF9Ix7",
        "colab": {
          "base_uri": "https://localhost:8080/"
        },
        "outputId": "cc5ebb74-634d-46b2-a6ea-8709220ee2df"
      },
      "source": [
        "#Genera un array con valores al azar\n",
        "print(np.random.rand(2,2,10))"
      ],
      "execution_count": 92,
      "outputs": [
        {
          "output_type": "stream",
          "name": "stdout",
          "text": [
            "[[[0.97219929 0.83749979 0.48054556 0.86411136 0.64058229 0.49050975\n",
            "   0.50178452 0.19458834 0.03711662 0.87611878]\n",
            "  [0.16149638 0.94978774 0.91626436 0.60203084 0.53057016 0.1031958\n",
            "   0.43623199 0.17247155 0.77517492 0.24710449]]\n",
            "\n",
            " [[0.64029681 0.71539405 0.05895529 0.95099165 0.56015552 0.22949042\n",
            "   0.30671596 0.12753118 0.07009308 0.94465391]\n",
            "  [0.1515983  0.37063636 0.69542148 0.98362902 0.15772962 0.93915076\n",
            "   0.91579296 0.48118811 0.17599776 0.4265259 ]]]\n"
          ]
        }
      ]
    },
    {
      "cell_type": "markdown",
      "metadata": {
        "id": "uL9DAYO-9Ix8"
      },
      "source": [
        "- **np.random.randint(low, high, size)**: Devuelve un array con enteros al azar. Cuando se especifica un solo entero como argumento este entero es entendido como el mayor valor que ese numero random puede tomar. Si se pasan dos, uno es el menor valor y el otro es el mayor valor. Con size se le puede decir que dimensiones tiene el array. Si no le paso ningun valor, devolvera solo un numero entero."
      ]
    },
    {
      "cell_type": "code",
      "metadata": {
        "id": "KeLDVrWI9Ix9",
        "colab": {
          "base_uri": "https://localhost:8080/"
        },
        "outputId": "fa2fa10a-d4cb-4347-f355-3a841ddbd3ba"
      },
      "source": [
        "#Genera un array con enteros al azar\n",
        "np.random.randint(1,10)"
      ],
      "execution_count": 93,
      "outputs": [
        {
          "output_type": "execute_result",
          "data": {
            "text/plain": [
              "9"
            ]
          },
          "metadata": {},
          "execution_count": 93
        }
      ]
    },
    {
      "cell_type": "markdown",
      "metadata": {
        "id": "vnNsy9gw9Ix_"
      },
      "source": [
        "- **np.arange([start, ]stop, [step, ])**: Devuelve numero simetricamente distribuidos segun los valores datos. El primer valor es el comienzo, el segundo el final y el tercero representa cada cuanto queremos esos valores."
      ]
    },
    {
      "cell_type": "code",
      "metadata": {
        "id": "vOuXCx4D9Ix_",
        "colab": {
          "base_uri": "https://localhost:8080/"
        },
        "outputId": "e7970d0a-bbe7-48f4-c905-fc059a51cf71"
      },
      "source": [
        "#Corre esta linea de codigo y comprende como funciona np.arange\n",
        "np.arange(2, 20, 4)"
      ],
      "execution_count": 95,
      "outputs": [
        {
          "output_type": "execute_result",
          "data": {
            "text/plain": [
              "array([ 2,  6, 10, 14, 18])"
            ]
          },
          "metadata": {},
          "execution_count": 95
        }
      ]
    },
    {
      "cell_type": "markdown",
      "metadata": {
        "id": "ad8MpgsK9IyB"
      },
      "source": [
        "## Funciones estadisticas"
      ]
    },
    {
      "cell_type": "markdown",
      "metadata": {
        "id": "hkKe1XHu9IyB"
      },
      "source": [
        "NumPy nos facilita varias funciones que nos permitiran obtener algunos parametros estadisticos de nuestros arrays. Veamos cuales son estas funciones."
      ]
    },
    {
      "cell_type": "code",
      "metadata": {
        "id": "nXp_uV3j9IyC",
        "colab": {
          "base_uri": "https://localhost:8080/"
        },
        "outputId": "e703f0ac-210c-4b10-f915-cb7f4d5afb7e"
      },
      "source": [
        "#Volvamos a ver como era nuestro array nuevo_array\n",
        "print(nuevo_array)"
      ],
      "execution_count": 96,
      "outputs": [
        {
          "output_type": "stream",
          "name": "stdout",
          "text": [
            "[[ 0  1  3]\n",
            " [ 3  4  5]\n",
            " [ 9 10  4]\n",
            " [ 2  5  6]]\n"
          ]
        }
      ]
    },
    {
      "cell_type": "markdown",
      "source": [],
      "metadata": {
        "id": "PAANcdgPenVu"
      }
    },
    {
      "cell_type": "markdown",
      "metadata": {
        "id": "2Pn6RQZU9IyE"
      },
      "source": [
        "- `np.mean()`: Media o Promedio."
      ]
    },
    {
      "cell_type": "code",
      "metadata": {
        "id": "nRBJGUd39IyF",
        "colab": {
          "base_uri": "https://localhost:8080/"
        },
        "outputId": "28f98650-2509-45a4-f4f0-102749be76d7"
      },
      "source": [
        "#usa la funcion mean para obtener el promedio de los valores en nuevo_array\n",
        "np.mean(nuevo_array)"
      ],
      "execution_count": 98,
      "outputs": [
        {
          "output_type": "execute_result",
          "data": {
            "text/plain": [
              "np.float64(4.333333333333333)"
            ]
          },
          "metadata": {},
          "execution_count": 98
        }
      ]
    },
    {
      "cell_type": "markdown",
      "metadata": {
        "id": "Zc1r1TvP9IyG"
      },
      "source": [
        "- `np.var()`: Devuelve la dispersión de los valores alrededor de la media"
      ]
    },
    {
      "cell_type": "code",
      "metadata": {
        "id": "WJGJTzY89IyI",
        "colab": {
          "base_uri": "https://localhost:8080/"
        },
        "outputId": "1f695cb9-e793-4a3b-8cca-b80233185526"
      },
      "source": [
        "#usa la funcion var para obtener la varianza de los valores en nuevo_array\n",
        "np.var(nuevo_array)"
      ],
      "execution_count": 101,
      "outputs": [
        {
          "output_type": "execute_result",
          "data": {
            "text/plain": [
              "np.float64(8.055555555555557)"
            ]
          },
          "metadata": {},
          "execution_count": 101
        }
      ]
    },
    {
      "cell_type": "markdown",
      "metadata": {
        "id": "9eM5HfIk9IyK"
      },
      "source": [
        "- `np.sum()`: devuelve la suma de todos los valores en el array.\n",
        "- `np.min()`: devuelve el menor valor en el array\n",
        "- `np.max()`: devuelve el maximo valor en el array"
      ]
    },
    {
      "cell_type": "code",
      "metadata": {
        "id": "MMaX3qaq9IyK",
        "colab": {
          "base_uri": "https://localhost:8080/"
        },
        "outputId": "1fe1b453-9bcd-4426-ff13-4441c4ca0703"
      },
      "source": [
        "#Muestra la suma de los valores en nuevo_array\n",
        "print(np.sum(nuevo_array))\n",
        "\n",
        "#Muestra el minimo y maximo valor en nuevo array\n",
        "\n",
        "print(np.min(nuevo_array))\n",
        "print(np.max(nuevo_array))"
      ],
      "execution_count": 102,
      "outputs": [
        {
          "output_type": "stream",
          "name": "stdout",
          "text": [
            "52\n",
            "0\n",
            "10\n"
          ]
        }
      ]
    }
  ]
}